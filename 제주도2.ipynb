{
  "nbformat": 4,
  "nbformat_minor": 0,
  "metadata": {
    "colab": {
      "provenance": []
    },
    "kernelspec": {
      "name": "python3",
      "display_name": "Python 3"
    },
    "language_info": {
      "name": "python"
    },
    "accelerator": "GPU",
    "gpuClass": "standard"
  },
  "cells": [
    {
      "cell_type": "code",
      "execution_count": 3,
      "metadata": {
        "id": "BuDX2399ay0g"
      },
      "outputs": [],
      "source": [
        "import pandas as pd\n",
        "import numpy as np\n",
        "import matplotlib.pyplot as plt\n",
        "import seaborn as sns\n",
        "from sklearn.preprocessing import LabelEncoder\n",
        "import lightgbm as lgb\n",
        "import gc"
      ]
    },
    {
      "cell_type": "code",
      "source": [
        "from google.colab import drive\n",
        "drive.mount('/content/drive')"
      ],
      "metadata": {
        "colab": {
          "base_uri": "https://localhost:8080/"
        },
        "id": "eLTlg2sZbIDE",
        "outputId": "6981de68-c719-4b9c-ee60-43047a589869"
      },
      "execution_count": 2,
      "outputs": [
        {
          "output_type": "stream",
          "name": "stdout",
          "text": [
            "Mounted at /content/drive\n"
          ]
        }
      ]
    },
    {
      "cell_type": "code",
      "source": [
        "base_path = \"/content/drive/MyDrive/Colab Notebooks/open/\"\n",
        "\n",
        "train = pd.read_csv(base_path + \"train.csv\", encoding='UTF8')\n",
        "test = pd.read_csv(base_path + \"test.csv\", encoding='UTF8')"
      ],
      "metadata": {
        "id": "S6WVe5Gia3Jd"
      },
      "execution_count": 67,
      "outputs": []
    },
    {
      "cell_type": "code",
      "source": [
        "to_int32 = [\"base_date\", \"base_hour\", \"lane_count\", \"road_rating\", \"multi_linked\", \"connect_code\", \"road_type\"]\n",
        "to_float32 = [\"vehicle_restricted\", \"height_restricted\", \"maximum_speed_limit\", \"weight_restricted\", \"target\"]\n",
        "\n",
        "for i in to_int32:\n",
        "    train[i] = train[i].astype(\"int32\")\n",
        "for j in to_float32:\n",
        "    train[j] = train[j].astype(\"float32\")"
      ],
      "metadata": {
        "id": "Jf0iIEXXa3L0"
      },
      "execution_count": 68,
      "outputs": []
    },
    {
      "cell_type": "code",
      "source": [
        "train.info()\n"
      ],
      "metadata": {
        "colab": {
          "base_uri": "https://localhost:8080/"
        },
        "id": "4iCTEF-Qa3N5",
        "outputId": "85b971ef-05e4-4346-faab-6b039c8ee555"
      },
      "execution_count": 69,
      "outputs": [
        {
          "output_type": "stream",
          "name": "stdout",
          "text": [
            "<class 'pandas.core.frame.DataFrame'>\n",
            "RangeIndex: 4701217 entries, 0 to 4701216\n",
            "Data columns (total 23 columns):\n",
            " #   Column                 Dtype  \n",
            "---  ------                 -----  \n",
            " 0   id                     object \n",
            " 1   base_date              int32  \n",
            " 2   day_of_week            object \n",
            " 3   base_hour              int32  \n",
            " 4   lane_count             int32  \n",
            " 5   road_rating            int32  \n",
            " 6   road_name              object \n",
            " 7   multi_linked           int32  \n",
            " 8   connect_code           int32  \n",
            " 9   maximum_speed_limit    float32\n",
            " 10  vehicle_restricted     float32\n",
            " 11  weight_restricted      float32\n",
            " 12  height_restricted      float32\n",
            " 13  road_type              int32  \n",
            " 14  start_node_name        object \n",
            " 15  start_latitude         float64\n",
            " 16  start_longitude        float64\n",
            " 17  start_turn_restricted  object \n",
            " 18  end_node_name          object \n",
            " 19  end_latitude           float64\n",
            " 20  end_longitude          float64\n",
            " 21  end_turn_restricted    object \n",
            " 22  target                 float32\n",
            "dtypes: float32(5), float64(4), int32(7), object(7)\n",
            "memory usage: 609.7+ MB\n"
          ]
        }
      ]
    },
    {
      "cell_type": "code",
      "source": [
        "only_one_value = []\n",
        "for i in train.columns[2:]:\n",
        "    if len(train[i].value_counts()) <2:\n",
        "        only_one_value.append(i)\n",
        "len(only_one_value)"
      ],
      "metadata": {
        "colab": {
          "base_uri": "https://localhost:8080/"
        },
        "id": "mkgDgRGHa3QJ",
        "outputId": "a0d0c138-fe13-4072-ec39-978e55b2d9da"
      },
      "execution_count": 70,
      "outputs": [
        {
          "output_type": "execute_result",
          "data": {
            "text/plain": [
              "2"
            ]
          },
          "metadata": {},
          "execution_count": 70
        }
      ]
    },
    {
      "cell_type": "code",
      "source": [
        "print(train[\"vehicle_restricted\"].value_counts())\n",
        "print(\"---------------------------------------\")\n",
        "print(train[\"height_restricted\"].value_counts())"
      ],
      "metadata": {
        "colab": {
          "base_uri": "https://localhost:8080/"
        },
        "id": "opiWLxgEa3SM",
        "outputId": "2987c306-2556-4b12-ed74-3cdc9d30dff5"
      },
      "execution_count": 71,
      "outputs": [
        {
          "output_type": "stream",
          "name": "stdout",
          "text": [
            "0.0    4701217\n",
            "Name: vehicle_restricted, dtype: int64\n",
            "---------------------------------------\n",
            "0.0    4701217\n",
            "Name: height_restricted, dtype: int64\n"
          ]
        }
      ]
    },
    {
      "cell_type": "code",
      "source": [
        "# 확인된 해당 컬럼을 제거하겠습니다\n",
        "train.drop([\"vehicle_restricted\", \"height_restricted\"], axis = 1, inplace = True)\n",
        "test.drop([\"vehicle_restricted\", \"height_restricted\"], axis = 1, inplace = True)"
      ],
      "metadata": {
        "id": "jqEIiJ6da3V4"
      },
      "execution_count": 72,
      "outputs": []
    },
    {
      "cell_type": "code",
      "source": [
        "train.groupby([\"base_date\"])[\"target\"].size()"
      ],
      "metadata": {
        "colab": {
          "base_uri": "https://localhost:8080/"
        },
        "id": "AcPZAuJ8bf1A",
        "outputId": "9cb8def9-d43f-46b4-ecd5-2308d2b47075"
      },
      "execution_count": 73,
      "outputs": [
        {
          "output_type": "execute_result",
          "data": {
            "text/plain": [
              "base_date\n",
              "20210901    19722\n",
              "20210902    18809\n",
              "20210903    19880\n",
              "20210904    17998\n",
              "20210905    17836\n",
              "            ...  \n",
              "20220727     9195\n",
              "20220728     7601\n",
              "20220729     5138\n",
              "20220730     1845\n",
              "20220731     5539\n",
              "Name: target, Length: 281, dtype: int64"
            ]
          },
          "metadata": {},
          "execution_count": 73
        }
      ]
    },
    {
      "cell_type": "code",
      "source": [
        "# \"base_date\"와 \"base_hour\"는 상관관계를 분석하지 않을 것이기에 임시로 object로 변형하겠습니다\n",
        "train[[\"base_date\", \"base_hour\"]] = train[[\"base_date\", \"base_hour\"]].astype(object)\n",
        "plt.figure(figsize = (14,7))\n",
        "sns.heatmap(train.corr(), annot = True)\n",
        "\n",
        "# object로 변형하였던 \"base_hour\", \"base_date\"를 다시 int형으로 변형하겠습니다\n",
        "train[[\"base_hour\", \"base_date\"]] = train[[\"base_hour\",\"base_date\"]].astype(\"int32\")"
      ],
      "metadata": {
        "colab": {
          "base_uri": "https://localhost:8080/",
          "height": 529
        },
        "id": "DWTd2IDSbf4v",
        "outputId": "de90acd2-8762-4d8c-8a5b-43f9f97d755e"
      },
      "execution_count": 74,
      "outputs": [
        {
          "output_type": "display_data",
          "data": {
            "text/plain": [
              "<Figure size 1008x504 with 2 Axes>"
            ],
            "image/png": "[encoded data removed]"
          },
          "metadata": {
            "needs_background": "light"
          }
        }
      ]
    },
    {
      "cell_type": "markdown",
      "source": [
        "- 예측해야하는 target값과의 상관관계가 높은 것중에 가장 눈에 띄는 컬럼은 maximum_speed_limit입니다. 최고속도 제한이 높을 수록 양의 상관관계가 있다는 것을 알 수 있습니다(직관적으로도)\n",
        "- lane_count(차로 수)는 많을수록 속도가 더 높을 것 같음에도 target과의 음의 상관관계가 나왔습니다.\n",
        "- weight_restricted(통과 제한 하중)은 target과의 양의 상관관계가 나왔습니다.\n",
        "road_rating, road_type은 상관관계가 있으나 데이터를 보아야 원인을 유추할 수 있을 것으로 예상합니다\n",
        "- 남은 컬럼인 multi_linked, connect_code, start_longitue, start_latitude, end_longitue, end_latitude 도 추후 분석해보겠습니다"
      ],
      "metadata": {
        "id": "V01I_EjSbpsb"
      }
    },
    {
      "cell_type": "code",
      "source": [
        "train.maximum_speed_limit.value_counts()"
      ],
      "metadata": {
        "colab": {
          "base_uri": "https://localhost:8080/"
        },
        "id": "lVyqaCTrbf6_",
        "outputId": "3b00ed2b-91b4-4ec1-d2a6-b27d90346e93"
      },
      "execution_count": 12,
      "outputs": [
        {
          "output_type": "execute_result",
          "data": {
            "text/plain": [
              "60.0    1665573\n",
              "50.0    1103682\n",
              "70.0     995077\n",
              "80.0     700334\n",
              "30.0     229761\n",
              "40.0       6790\n",
              "Name: maximum_speed_limit, dtype: int64"
            ]
          },
          "metadata": {},
          "execution_count": 12
        }
      ]
    },
    {
      "cell_type": "code",
      "source": [
        "sns.distplot(train.maximum_speed_limit)"
      ],
      "metadata": {
        "colab": {
          "base_uri": "https://localhost:8080/",
          "height": 355
        },
        "id": "ee4nKKJAbf9J",
        "outputId": "ced2444d-600e-4edd-837a-189407fea868"
      },
      "execution_count": 13,
      "outputs": [
        {
          "output_type": "stream",
          "name": "stderr",
          "text": [
            "/usr/local/lib/python3.7/dist-packages/seaborn/distributions.py:2619: FutureWarning: `distplot` is a deprecated function and will be removed in a future version. Please adapt your code to use either `displot` (a figure-level function with similar flexibility) or `histplot` (an axes-level function for histograms).\n",
            "  warnings.warn(msg, FutureWarning)\n"
          ]
        },
        {
          "output_type": "execute_result",
          "data": {
            "text/plain": [
              "<matplotlib.axes._subplots.AxesSubplot at 0x7f3d61c01850>"
            ]
          },
          "metadata": {},
          "execution_count": 13
        },
        {
          "output_type": "display_data",
          "data": {
            "text/plain": [
              "<Figure size 432x288 with 1 Axes>"
            ],
            "image/png": "[encoded data removed]"
          },
          "metadata": {
            "needs_background": "light"
          }
        }
      ]
    },
    {
      "cell_type": "code",
      "source": [
        "sns.boxplot(x = \"maximum_speed_limit\", y = \"target\", data = train)"
      ],
      "metadata": {
        "colab": {
          "base_uri": "https://localhost:8080/",
          "height": 298
        },
        "id": "zySBgMxwbf_g",
        "outputId": "d55fba28-a6f8-452c-aaf0-f186fa0a6b6e"
      },
      "execution_count": 14,
      "outputs": [
        {
          "output_type": "execute_result",
          "data": {
            "text/plain": [
              "<matplotlib.axes._subplots.AxesSubplot at 0x7f3d602be590>"
            ]
          },
          "metadata": {},
          "execution_count": 14
        },
        {
          "output_type": "display_data",
          "data": {
            "text/plain": [
              "<Figure size 432x288 with 1 Axes>"
            ],
            "image/png": "[encoded data removed]"
          },
          "metadata": {
            "needs_background": "light"
          }
        }
      ]
    },
    {
      "cell_type": "code",
      "source": [
        "train.lane_count.value_counts()"
      ],
      "metadata": {
        "colab": {
          "base_uri": "https://localhost:8080/"
        },
        "id": "qMWTwngUbgBk",
        "outputId": "c06c42bb-557d-46bd-901b-0fa89a82238e"
      },
      "execution_count": 15,
      "outputs": [
        {
          "output_type": "execute_result",
          "data": {
            "text/plain": [
              "2    2352092\n",
              "1    1558531\n",
              "3     790594\n",
              "Name: lane_count, dtype: int64"
            ]
          },
          "metadata": {},
          "execution_count": 15
        }
      ]
    },
    {
      "cell_type": "code",
      "source": [
        "sns.boxplot(x = train.lane_count, y = train.target, data=train)"
      ],
      "metadata": {
        "colab": {
          "base_uri": "https://localhost:8080/",
          "height": 298
        },
        "id": "dldhCAFAbgDs",
        "outputId": "cf49665c-2e64-441a-8800-b578b8f9d960"
      },
      "execution_count": 16,
      "outputs": [
        {
          "output_type": "execute_result",
          "data": {
            "text/plain": [
              "<matplotlib.axes._subplots.AxesSubplot at 0x7f3d601b4250>"
            ]
          },
          "metadata": {},
          "execution_count": 16
        },
        {
          "output_type": "display_data",
          "data": {
            "text/plain": [
              "<Figure size 432x288 with 1 Axes>"
            ],
            "image/png": "[encoded data removed]"
          },
          "metadata": {
            "needs_background": "light"
          }
        }
      ]
    },
    {
      "cell_type": "code",
      "source": [
        "train.groupby(\"lane_count\")[\"target\"].mean() # 레인이 많을 수록 속도가 느림"
      ],
      "metadata": {
        "colab": {
          "base_uri": "https://localhost:8080/"
        },
        "id": "ke8WShtJbgFk",
        "outputId": "4348fde8-6b02-4fca-f6c4-fe6b3fa85f40"
      },
      "execution_count": 17,
      "outputs": [
        {
          "output_type": "execute_result",
          "data": {
            "text/plain": [
              "lane_count\n",
              "1    43.570560\n",
              "2    44.915714\n",
              "3    34.917782\n",
              "Name: target, dtype: float32"
            ]
          },
          "metadata": {},
          "execution_count": 17
        }
      ]
    },
    {
      "cell_type": "code",
      "source": [
        "train.groupby(\"weight_restricted\")[\"target\"].mean() # 43200 > 32400 == 50000 > 0"
      ],
      "metadata": {
        "colab": {
          "base_uri": "https://localhost:8080/"
        },
        "id": "3bq3EUUFcD95",
        "outputId": "21de55ed-8442-4839-d86e-347b1824061d"
      },
      "execution_count": 18,
      "outputs": [
        {
          "output_type": "execute_result",
          "data": {
            "text/plain": [
              "weight_restricted\n",
              "0.0        40.955696\n",
              "32400.0    47.453350\n",
              "43200.0    57.883888\n",
              "50000.0    47.088665\n",
              "Name: target, dtype: float32"
            ]
          },
          "metadata": {},
          "execution_count": 18
        }
      ]
    },
    {
      "cell_type": "code",
      "source": [
        "# 제한 하중이 없는 곳에 속도가 느림  -> 아마 50,000 이상 트럭이 들어와서 그런듯\n",
        "sns.pointplot(data = train, x = \"weight_restricted\", y = \"target\", hue= \"maximum_speed_limit\")"
      ],
      "metadata": {
        "colab": {
          "base_uri": "https://localhost:8080/",
          "height": 302
        },
        "id": "tE2l4ZnhcEBw",
        "outputId": "47e759ec-cd97-4bcb-8b57-7ed8566f62b2"
      },
      "execution_count": 19,
      "outputs": [
        {
          "output_type": "execute_result",
          "data": {
            "text/plain": [
              "<matplotlib.axes._subplots.AxesSubplot at 0x7f3d60159cd0>"
            ]
          },
          "metadata": {},
          "execution_count": 19
        },
        {
          "output_type": "display_data",
          "data": {
            "text/plain": [
              "<Figure size 432x288 with 1 Axes>"
            ],
            "image/png": "[encoded data removed]"
          },
          "metadata": {
            "needs_background": "light"
          }
        }
      ]
    },
    {
      "cell_type": "code",
      "source": [
        "train.road_rating.value_counts()"
      ],
      "metadata": {
        "colab": {
          "base_uri": "https://localhost:8080/"
        },
        "id": "tPyZQff-cEEK",
        "outputId": "6f7cdb41-1a55-4fb1-e1fc-70f4c851de35"
      },
      "execution_count": 75,
      "outputs": [
        {
          "output_type": "execute_result",
          "data": {
            "text/plain": [
              "103    2159511\n",
              "107    1582214\n",
              "106     959492\n",
              "Name: road_rating, dtype: int64"
            ]
          },
          "metadata": {},
          "execution_count": 75
        }
      ]
    },
    {
      "cell_type": "code",
      "source": [
        "# 103, 106, 107 일반국도, 지방도, 시도군도\n",
        "print(train.groupby(\"road_rating\")[\"target\"].mean())\n",
        "print(train.groupby(\"road_rating\")[\"target\"].max())"
      ],
      "metadata": {
        "colab": {
          "base_uri": "https://localhost:8080/"
        },
        "id": "0hp602kGdeW8",
        "outputId": "0d74deff-d292-44b3-ab23-974d28c6ff71"
      },
      "execution_count": 76,
      "outputs": [
        {
          "output_type": "stream",
          "name": "stdout",
          "text": [
            "road_rating\n",
            "103    46.388466\n",
            "106    48.021549\n",
            "107    34.701408\n",
            "Name: target, dtype: float32\n",
            "road_rating\n",
            "103    113.0\n",
            "106     99.0\n",
            "107     94.0\n",
            "Name: target, dtype: float32\n"
          ]
        }
      ]
    },
    {
      "cell_type": "code",
      "source": [
        "#중용구간 -> 별차이 x 제거 ->의미도 사실 모르겠음\n",
        "train.multi_linked.value_counts()"
      ],
      "metadata": {
        "colab": {
          "base_uri": "https://localhost:8080/"
        },
        "id": "wbAnlXe-deZh",
        "outputId": "75ba5700-2766-4a9c-f2da-8ecfd28cea03"
      },
      "execution_count": 77,
      "outputs": [
        {
          "output_type": "execute_result",
          "data": {
            "text/plain": [
              "0    4698978\n",
              "1       2239\n",
              "Name: multi_linked, dtype: int64"
            ]
          },
          "metadata": {},
          "execution_count": 77
        }
      ]
    },
    {
      "cell_type": "code",
      "source": [
        "print(train.groupby(\"multi_linked\")[\"target\"].mean())\n",
        "print(train.groupby(\"multi_linked\")[\"target\"].max())"
      ],
      "metadata": {
        "colab": {
          "base_uri": "https://localhost:8080/"
        },
        "id": "L4xjGhXqdecZ",
        "outputId": "59799b89-11a7-469a-a044-7646dff37599"
      },
      "execution_count": 78,
      "outputs": [
        {
          "output_type": "stream",
          "name": "stdout",
          "text": [
            "multi_linked\n",
            "0    42.791370\n",
            "1    36.642696\n",
            "Name: target, dtype: float32\n",
            "multi_linked\n",
            "0    113.0\n",
            "1     67.0\n",
            "Name: target, dtype: float32\n"
          ]
        }
      ]
    },
    {
      "cell_type": "code",
      "source": [
        "#시간\n",
        "train.groupby(\"base_hour\")[\"target\"].count().sort_values(ascending = True)"
      ],
      "metadata": {
        "colab": {
          "base_uri": "https://localhost:8080/"
        },
        "id": "kDAgOc6igEh0",
        "outputId": "d1609542-169f-4cae-fbca-8ef3980a65d0"
      },
      "execution_count": 79,
      "outputs": [
        {
          "output_type": "execute_result",
          "data": {
            "text/plain": [
              "base_hour\n",
              "0     154158\n",
              "3     155938\n",
              "4     165284\n",
              "2     169322\n",
              "5     181128\n",
              "1     182353\n",
              "23    184229\n",
              "6     189418\n",
              "7     199061\n",
              "22    200629\n",
              "8     201875\n",
              "21    203585\n",
              "20    205059\n",
              "9     205327\n",
              "10    206316\n",
              "18    207500\n",
              "17    208377\n",
              "16    208420\n",
              "11    208515\n",
              "19    209870\n",
              "12    211833\n",
              "14    214182\n",
              "13    214297\n",
              "15    214541\n",
              "Name: target, dtype: int64"
            ]
          },
          "metadata": {},
          "execution_count": 79
        }
      ]
    },
    {
      "cell_type": "code",
      "source": [
        "train.groupby(\"base_hour\")[\"target\"].value_counts(ascending = False)"
      ],
      "metadata": {
        "colab": {
          "base_uri": "https://localhost:8080/"
        },
        "id": "uEh08fMmgEpO",
        "outputId": "afcf9313-1e81-4c6e-ca76-d4ca01dfdbeb"
      },
      "execution_count": 80,
      "outputs": [
        {
          "output_type": "execute_result",
          "data": {
            "text/plain": [
              "base_hour  target\n",
              "0          52.0      4546\n",
              "           51.0      4545\n",
              "           50.0      4529\n",
              "           54.0      4311\n",
              "           49.0      4149\n",
              "                     ... \n",
              "23         87.0        11\n",
              "           2.0          9\n",
              "           88.0         5\n",
              "           92.0         2\n",
              "           1.0          1\n",
              "Name: target, Length: 2100, dtype: int64"
            ]
          },
          "metadata": {},
          "execution_count": 80
        }
      ]
    },
    {
      "cell_type": "code",
      "source": [
        "for i in range(24):\n",
        "    mean_time = train[train[\"base_hour\"] == i][\"target\"].mean()\n",
        "    print(\"{}시의 평균 속도는 {} km입니다\". format(i, mean_time))"
      ],
      "metadata": {
        "colab": {
          "base_uri": "https://localhost:8080/"
        },
        "id": "n0fM2DsagEtQ",
        "outputId": "f7c99e89-30a6-4729-9d54-2af7054556f3"
      },
      "execution_count": 81,
      "outputs": [
        {
          "output_type": "stream",
          "name": "stdout",
          "text": [
            "0시의 평균 속도는 48.7421989440918 km입니다\n",
            "1시의 평균 속도는 49.76329803466797 km입니다\n",
            "2시의 평균 속도는 50.27865982055664 km입니다\n",
            "3시의 평균 속도는 50.54325485229492 km입니다\n",
            "4시의 평균 속도는 49.74752426147461 km입니다\n",
            "5시의 평균 속도는 47.201141357421875 km입니다\n",
            "6시의 평균 속도는 45.54903030395508 km입니다\n",
            "7시의 평균 속도는 43.68227005004883 km입니다\n",
            "8시의 평균 속도는 41.65629196166992 km입니다\n",
            "9시의 평균 속도는 40.875938415527344 km입니다\n",
            "10시의 평균 속도는 40.222232818603516 km입니다\n",
            "11시의 평균 속도는 39.82459259033203 km입니다\n",
            "12시의 평균 속도는 39.838539123535156 km입니다\n",
            "13시의 평균 속도는 39.73147201538086 km입니다\n",
            "14시의 평균 속도는 39.561119079589844 km입니다\n",
            "15시의 평균 속도는 39.35169982910156 km입니다\n",
            "16시의 평균 속도는 39.1279296875 km입니다\n",
            "17시의 평균 속도는 38.47336196899414 km입니다\n",
            "18시의 평균 속도는 38.24125671386719 km입니다\n",
            "19시의 평균 속도는 40.10411071777344 km입니다\n",
            "20시의 평균 속도는 41.113807678222656 km입니다\n",
            "21시의 평균 속도는 42.173431396484375 km입니다\n",
            "22시의 평균 속도는 43.98986053466797 km입니다\n",
            "23시의 평균 속도는 45.8077392578125 km입니다\n"
          ]
        }
      ]
    },
    {
      "cell_type": "code",
      "source": [
        "# 3시 -> 2시 ->1시 ->4시\n",
        "train.groupby(\"base_hour\")[\"target\"].mean().sort_values(ascending = False)"
      ],
      "metadata": {
        "colab": {
          "base_uri": "https://localhost:8080/"
        },
        "id": "2-XvhOjDgkvO",
        "outputId": "b60aa31c-29d3-4e19-d88e-b8cb35065d80"
      },
      "execution_count": 82,
      "outputs": [
        {
          "output_type": "execute_result",
          "data": {
            "text/plain": [
              "base_hour\n",
              "3     50.543255\n",
              "2     50.278660\n",
              "1     49.763298\n",
              "4     49.747524\n",
              "0     48.742199\n",
              "5     47.201141\n",
              "23    45.807739\n",
              "6     45.549030\n",
              "22    43.989861\n",
              "7     43.682270\n",
              "21    42.173431\n",
              "8     41.656292\n",
              "20    41.113808\n",
              "9     40.875938\n",
              "10    40.222233\n",
              "19    40.104111\n",
              "12    39.838539\n",
              "11    39.824593\n",
              "13    39.731472\n",
              "14    39.561119\n",
              "15    39.351700\n",
              "16    39.127930\n",
              "17    38.473362\n",
              "18    38.241257\n",
              "Name: target, dtype: float32"
            ]
          },
          "metadata": {},
          "execution_count": 82
        }
      ]
    },
    {
      "cell_type": "code",
      "source": [
        "# 밤 11시부터 속도 증가 -> 오전 6시부터 속도감소 시작 <23시 ~ 오전 6시 & 오전 7시~ 22시>\n",
        "# 통행량이 적은 11시부터 6시 까지는 빠른 속도를 낼 수 있을 것\n",
        "sns.boxplot(x = train.base_hour, y = train.target)"
      ],
      "metadata": {
        "colab": {
          "base_uri": "https://localhost:8080/",
          "height": 298
        },
        "id": "FQT5ODn1gk2C",
        "outputId": "150342ee-f35f-4090-915e-a2e2c63fa1ae"
      },
      "execution_count": 83,
      "outputs": [
        {
          "output_type": "execute_result",
          "data": {
            "text/plain": [
              "<matplotlib.axes._subplots.AxesSubplot at 0x7f3d49ee8310>"
            ]
          },
          "metadata": {},
          "execution_count": 83
        },
        {
          "output_type": "display_data",
          "data": {
            "text/plain": [
              "<Figure size 432x288 with 1 Axes>"
            ],
            "image/png": "[encoded data removed]"
          },
          "metadata": {
            "needs_background": "light"
          }
        }
      ]
    },
    {
      "cell_type": "code",
      "source": [
        "drop_road_name_index = train[train[\"road_name\"] == \"-\"].index\n",
        "temp_train = train.iloc[drop_road_name_index]\n",
        "temp_train"
      ],
      "metadata": {
        "id": "HDNDzsjBgk6X",
        "colab": {
          "base_uri": "https://localhost:8080/",
          "height": 488
        },
        "outputId": "b45a4389-2cda-4dcb-81da-30769a81200b"
      },
      "execution_count": 84,
      "outputs": [
        {
          "output_type": "execute_result",
          "data": {
            "text/plain": [
              "                    id  base_date day_of_week  base_hour  lane_count  \\\n",
              "6        TRAIN_0000006   20220106           목          0           2   \n",
              "14       TRAIN_0000014   20220203           목         16           1   \n",
              "28       TRAIN_0000028   20220612           일         14           2   \n",
              "30       TRAIN_0000030   20220623           목          6           2   \n",
              "31       TRAIN_0000031   20211028           목         15           1   \n",
              "...                ...        ...         ...        ...         ...   \n",
              "4701204  TRAIN_4701204   20211001           금         19           1   \n",
              "4701205  TRAIN_4701205   20220112           수         19           1   \n",
              "4701208  TRAIN_4701208   20220323           수         19           2   \n",
              "4701212  TRAIN_4701212   20211104           목         16           1   \n",
              "4701213  TRAIN_4701213   20220331           목          2           2   \n",
              "\n",
              "         road_rating road_name  multi_linked  connect_code  \\\n",
              "6                107         -             0             0   \n",
              "14               107         -             0             0   \n",
              "28               107         -             0             0   \n",
              "30               107         -             0             0   \n",
              "31               107         -             0             0   \n",
              "...              ...       ...           ...           ...   \n",
              "4701204          107         -             0             0   \n",
              "4701205          107         -             0             0   \n",
              "4701208          107         -             0             0   \n",
              "4701212          107         -             0             0   \n",
              "4701213          107         -             0             0   \n",
              "\n",
              "         maximum_speed_limit  ...  road_type  start_node_name start_latitude  \\\n",
              "6                       60.0  ...          0               가동      33.418412   \n",
              "14                      60.0  ...          3              송목교      33.316913   \n",
              "28                      50.0  ...          0            광평교차로      33.330822   \n",
              "30                      80.0  ...          0             일호유리      33.472276   \n",
              "31                      60.0  ...          3              남수교      33.337244   \n",
              "...                      ...  ...        ...              ...            ...   \n",
              "4701204                 60.0  ...          0            한남교차로      33.325096   \n",
              "4701205                 50.0  ...          0             감귤창고      33.450215   \n",
              "4701208                 80.0  ...          3            제2태흥교      33.287356   \n",
              "4701212                 50.0  ...          0            대림사거리      33.422145   \n",
              "4701213                 80.0  ...          3              광삼교      33.472505   \n",
              "\n",
              "         start_longitude  start_turn_restricted end_node_name end_latitude  \\\n",
              "6             126.268029                     없음            나동    33.414175   \n",
              "14            126.624634                     없음           송목교    33.317065   \n",
              "28            126.354179                     없음            금악    33.330673   \n",
              "30            126.418443                     없음         상귀교차로    33.473390   \n",
              "31            126.695809                     없음           남수교    33.337398   \n",
              "...                  ...                    ...           ...          ...   \n",
              "4701204       126.665698                     없음          서중2교    33.331742   \n",
              "4701205       126.920771                     없음            수협    33.448689   \n",
              "4701208       126.736525                     없음         제2태흥교    33.287582   \n",
              "4701212       126.278125                     없음          금덕해운    33.420955   \n",
              "4701213       126.424368                     없음           광삼교    33.472525   \n",
              "\n",
              "         end_longitude  end_turn_restricted target  \n",
              "6           126.269378                   없음   39.0  \n",
              "14          126.623867                   없음   58.0  \n",
              "28          126.354987                   없음   59.0  \n",
              "30          126.409129                   없음   75.0  \n",
              "31          126.696117                   없음   36.0  \n",
              "...                ...                  ...    ...  \n",
              "4701204     126.676431                   없음   55.0  \n",
              "4701205     126.916358                   없음   23.0  \n",
              "4701208     126.737512                   없음   61.0  \n",
              "4701212     126.273750                   없음   20.0  \n",
              "4701213     126.424890                   없음   65.0  \n",
              "\n",
              "[569463 rows x 21 columns]"
            ],
            "text/html": [
              "\n",
              "  <div id=\"df-c1a9b9b3-fc5a-4961-ac6f-345dfa8ff2c9\">\n",
              "    <div class=\"colab-df-container\">\n",
              "      <div>\n",
              "<style scoped>\n",
              "    .dataframe tbody tr th:only-of-type {\n",
              "        vertical-align: middle;\n",
              "    }\n",
              "\n",
              "    .dataframe tbody tr th {\n",
              "        vertical-align: top;\n",
              "    }\n",
              "\n",
              "    .dataframe thead th {\n",
              "        text-align: right;\n",
              "    }\n",
              "</style>\n",
              "<table border=\"1\" class=\"dataframe\">\n",
              "  <thead>\n",
              "    <tr style=\"text-align: right;\">\n",
              "      <th></th>\n",
              "      <th>id</th>\n",
              "      <th>base_date</th>\n",
              "      <th>day_of_week</th>\n",
              "      <th>base_hour</th>\n",
              "      <th>lane_count</th>\n",
              "      <th>road_rating</th>\n",
              "      <th>road_name</th>\n",
              "      <th>multi_linked</th>\n",
              "      <th>connect_code</th>\n",
              "      <th>maximum_speed_limit</th>\n",
              "      <th>...</th>\n",
              "      <th>road_type</th>\n",
              "      <th>start_node_name</th>\n",
              "      <th>start_latitude</th>\n",
              "      <th>start_longitude</th>\n",
              "      <th>start_turn_restricted</th>\n",
              "      <th>end_node_name</th>\n",
              "      <th>end_latitude</th>\n",
              "      <th>end_longitude</th>\n",
              "      <th>end_turn_restricted</th>\n",
              "      <th>target</th>\n",
              "    </tr>\n",
              "  </thead>\n",
              "  <tbody>\n",
              "    <tr>\n",
              "      <th>6</th>\n",
              "      <td>TRAIN_0000006</td>\n",
              "      <td>20220106</td>\n",
              "      <td>목</td>\n",
              "      <td>0</td>\n",
              "      <td>2</td>\n",
              "      <td>107</td>\n",
              "      <td>-</td>\n",
              "      <td>0</td>\n",
              "      <td>0</td>\n",
              "      <td>60.0</td>\n",
              "      <td>...</td>\n",
              "      <td>0</td>\n",
              "      <td>가동</td>\n",
              "      <td>33.418412</td>\n",
              "      <td>126.268029</td>\n",
              "      <td>없음</td>\n",
              "      <td>나동</td>\n",
              "      <td>33.414175</td>\n",
              "      <td>126.269378</td>\n",
              "      <td>없음</td>\n",
              "      <td>39.0</td>\n",
              "    </tr>\n",
              "    <tr>\n",
              "      <th>14</th>\n",
              "      <td>TRAIN_0000014</td>\n",
              "      <td>20220203</td>\n",
              "      <td>목</td>\n",
              "      <td>16</td>\n",
              "      <td>1</td>\n",
              "      <td>107</td>\n",
              "      <td>-</td>\n",
              "      <td>0</td>\n",
              "      <td>0</td>\n",
              "      <td>60.0</td>\n",
              "      <td>...</td>\n",
              "      <td>3</td>\n",
              "      <td>송목교</td>\n",
              "      <td>33.316913</td>\n",
              "      <td>126.624634</td>\n",
              "      <td>없음</td>\n",
              "      <td>송목교</td>\n",
              "      <td>33.317065</td>\n",
              "      <td>126.623867</td>\n",
              "      <td>없음</td>\n",
              "      <td>58.0</td>\n",
              "    </tr>\n",
              "    <tr>\n",
              "      <th>28</th>\n",
              "      <td>TRAIN_0000028</td>\n",
              "      <td>20220612</td>\n",
              "      <td>일</td>\n",
              "      <td>14</td>\n",
              "      <td>2</td>\n",
              "      <td>107</td>\n",
              "      <td>-</td>\n",
              "      <td>0</td>\n",
              "      <td>0</td>\n",
              "      <td>50.0</td>\n",
              "      <td>...</td>\n",
              "      <td>0</td>\n",
              "      <td>광평교차로</td>\n",
              "      <td>33.330822</td>\n",
              "      <td>126.354179</td>\n",
              "      <td>없음</td>\n",
              "      <td>금악</td>\n",
              "      <td>33.330673</td>\n",
              "      <td>126.354987</td>\n",
              "      <td>없음</td>\n",
              "      <td>59.0</td>\n",
              "    </tr>\n",
              "    <tr>\n",
              "      <th>30</th>\n",
              "      <td>TRAIN_0000030</td>\n",
              "      <td>20220623</td>\n",
              "      <td>목</td>\n",
              "      <td>6</td>\n",
              "      <td>2</td>\n",
              "      <td>107</td>\n",
              "      <td>-</td>\n",
              "      <td>0</td>\n",
              "      <td>0</td>\n",
              "      <td>80.0</td>\n",
              "      <td>...</td>\n",
              "      <td>0</td>\n",
              "      <td>일호유리</td>\n",
              "      <td>33.472276</td>\n",
              "      <td>126.418443</td>\n",
              "      <td>없음</td>\n",
              "      <td>상귀교차로</td>\n",
              "      <td>33.473390</td>\n",
              "      <td>126.409129</td>\n",
              "      <td>없음</td>\n",
              "      <td>75.0</td>\n",
              "    </tr>\n",
              "    <tr>\n",
              "      <th>31</th>\n",
              "      <td>TRAIN_0000031</td>\n",
              "      <td>20211028</td>\n",
              "      <td>목</td>\n",
              "      <td>15</td>\n",
              "      <td>1</td>\n",
              "      <td>107</td>\n",
              "      <td>-</td>\n",
              "      <td>0</td>\n",
              "      <td>0</td>\n",
              "      <td>60.0</td>\n",
              "      <td>...</td>\n",
              "      <td>3</td>\n",
              "      <td>남수교</td>\n",
              "      <td>33.337244</td>\n",
              "      <td>126.695809</td>\n",
              "      <td>없음</td>\n",
              "      <td>남수교</td>\n",
              "      <td>33.337398</td>\n",
              "      <td>126.696117</td>\n",
              "      <td>없음</td>\n",
              "      <td>36.0</td>\n",
              "    </tr>\n",
              "    <tr>\n",
              "      <th>...</th>\n",
              "      <td>...</td>\n",
              "      <td>...</td>\n",
              "      <td>...</td>\n",
              "      <td>...</td>\n",
              "      <td>...</td>\n",
              "      <td>...</td>\n",
              "      <td>...</td>\n",
              "      <td>...</td>\n",
              "      <td>...</td>\n",
              "      <td>...</td>\n",
              "      <td>...</td>\n",
              "      <td>...</td>\n",
              "      <td>...</td>\n",
              "      <td>...</td>\n",
              "      <td>...</td>\n",
              "      <td>...</td>\n",
              "      <td>...</td>\n",
              "      <td>...</td>\n",
              "      <td>...</td>\n",
              "      <td>...</td>\n",
              "      <td>...</td>\n",
              "    </tr>\n",
              "    <tr>\n",
              "      <th>4701204</th>\n",
              "      <td>TRAIN_4701204</td>\n",
              "      <td>20211001</td>\n",
              "      <td>금</td>\n",
              "      <td>19</td>\n",
              "      <td>1</td>\n",
              "      <td>107</td>\n",
              "      <td>-</td>\n",
              "      <td>0</td>\n",
              "      <td>0</td>\n",
              "      <td>60.0</td>\n",
              "      <td>...</td>\n",
              "      <td>0</td>\n",
              "      <td>한남교차로</td>\n",
              "      <td>33.325096</td>\n",
              "      <td>126.665698</td>\n",
              "      <td>없음</td>\n",
              "      <td>서중2교</td>\n",
              "      <td>33.331742</td>\n",
              "      <td>126.676431</td>\n",
              "      <td>없음</td>\n",
              "      <td>55.0</td>\n",
              "    </tr>\n",
              "    <tr>\n",
              "      <th>4701205</th>\n",
              "      <td>TRAIN_4701205</td>\n",
              "      <td>20220112</td>\n",
              "      <td>수</td>\n",
              "      <td>19</td>\n",
              "      <td>1</td>\n",
              "      <td>107</td>\n",
              "      <td>-</td>\n",
              "      <td>0</td>\n",
              "      <td>0</td>\n",
              "      <td>50.0</td>\n",
              "      <td>...</td>\n",
              "      <td>0</td>\n",
              "      <td>감귤창고</td>\n",
              "      <td>33.450215</td>\n",
              "      <td>126.920771</td>\n",
              "      <td>없음</td>\n",
              "      <td>수협</td>\n",
              "      <td>33.448689</td>\n",
              "      <td>126.916358</td>\n",
              "      <td>없음</td>\n",
              "      <td>23.0</td>\n",
              "    </tr>\n",
              "    <tr>\n",
              "      <th>4701208</th>\n",
              "      <td>TRAIN_4701208</td>\n",
              "      <td>20220323</td>\n",
              "      <td>수</td>\n",
              "      <td>19</td>\n",
              "      <td>2</td>\n",
              "      <td>107</td>\n",
              "      <td>-</td>\n",
              "      <td>0</td>\n",
              "      <td>0</td>\n",
              "      <td>80.0</td>\n",
              "      <td>...</td>\n",
              "      <td>3</td>\n",
              "      <td>제2태흥교</td>\n",
              "      <td>33.287356</td>\n",
              "      <td>126.736525</td>\n",
              "      <td>없음</td>\n",
              "      <td>제2태흥교</td>\n",
              "      <td>33.287582</td>\n",
              "      <td>126.737512</td>\n",
              "      <td>없음</td>\n",
              "      <td>61.0</td>\n",
              "    </tr>\n",
              "    <tr>\n",
              "      <th>4701212</th>\n",
              "      <td>TRAIN_4701212</td>\n",
              "      <td>20211104</td>\n",
              "      <td>목</td>\n",
              "      <td>16</td>\n",
              "      <td>1</td>\n",
              "      <td>107</td>\n",
              "      <td>-</td>\n",
              "      <td>0</td>\n",
              "      <td>0</td>\n",
              "      <td>50.0</td>\n",
              "      <td>...</td>\n",
              "      <td>0</td>\n",
              "      <td>대림사거리</td>\n",
              "      <td>33.422145</td>\n",
              "      <td>126.278125</td>\n",
              "      <td>없음</td>\n",
              "      <td>금덕해운</td>\n",
              "      <td>33.420955</td>\n",
              "      <td>126.273750</td>\n",
              "      <td>없음</td>\n",
              "      <td>20.0</td>\n",
              "    </tr>\n",
              "    <tr>\n",
              "      <th>4701213</th>\n",
              "      <td>TRAIN_4701213</td>\n",
              "      <td>20220331</td>\n",
              "      <td>목</td>\n",
              "      <td>2</td>\n",
              "      <td>2</td>\n",
              "      <td>107</td>\n",
              "      <td>-</td>\n",
              "      <td>0</td>\n",
              "      <td>0</td>\n",
              "      <td>80.0</td>\n",
              "      <td>...</td>\n",
              "      <td>3</td>\n",
              "      <td>광삼교</td>\n",
              "      <td>33.472505</td>\n",
              "      <td>126.424368</td>\n",
              "      <td>없음</td>\n",
              "      <td>광삼교</td>\n",
              "      <td>33.472525</td>\n",
              "      <td>126.424890</td>\n",
              "      <td>없음</td>\n",
              "      <td>65.0</td>\n",
              "    </tr>\n",
              "  </tbody>\n",
              "</table>\n",
              "<p>569463 rows × 21 columns</p>\n",
              "</div>\n",
              "      <button class=\"colab-df-convert\" onclick=\"convertToInteractive('df-c1a9b9b3-fc5a-4961-ac6f-345dfa8ff2c9')\"\n",
              "              title=\"Convert this dataframe to an interactive table.\"\n",
              "              style=\"display:none;\">\n",
              "        \n",
              "  <svg xmlns=\"http://www.w3.org/2000/svg\" height=\"24px\"viewBox=\"0 0 24 24\"\n",
              "       width=\"24px\">\n",
              "    <path d=\"M0 0h24v24H0V0z\" fill=\"none\"/>\n",
              "    <path d=\"M18.56 5.44l.94 2.06.94-2.06 2.06-.94-2.06-.94-.94-2.06-.94 2.06-2.06.94zm-11 1L8.5 8.5l.94-2.06 2.06-.94-2.06-.94L8.5 2.5l-.94 2.06-2.06.94zm10 10l.94 2.06.94-2.06 2.06-.94-2.06-.94-.94-2.06-.94 2.06-2.06.94z\"/><path d=\"M17.41 7.96l-1.37-1.37c-.4-.4-.92-.59-1.43-.59-.52 0-1.04.2-1.43.59L10.3 9.45l-7.72 7.72c-.78.78-.78 2.05 0 2.83L4 21.41c.39.39.9.59 1.41.59.51 0 1.02-.2 1.41-.59l7.78-7.78 2.81-2.81c.8-.78.8-2.07 0-2.86zM5.41 20L4 18.59l7.72-7.72 1.47 1.35L5.41 20z\"/>\n",
              "  </svg>\n",
              "      </button>\n",
              "      \n",
              "  <style>\n",
              "    .colab-df-container {\n",
              "      display:flex;\n",
              "      flex-wrap:wrap;\n",
              "      gap: 12px;\n",
              "    }\n",
              "\n",
              "    .colab-df-convert {\n",
              "      background-color: #E8F0FE;\n",
              "      border: none;\n",
              "      border-radius: 50%;\n",
              "      cursor: pointer;\n",
              "      display: none;\n",
              "      fill: #1967D2;\n",
              "      height: 32px;\n",
              "      padding: 0 0 0 0;\n",
              "      width: 32px;\n",
              "    }\n",
              "\n",
              "    .colab-df-convert:hover {\n",
              "      background-color: #E2EBFA;\n",
              "      box-shadow: 0px 1px 2px rgba(60, 64, 67, 0.3), 0px 1px 3px 1px rgba(60, 64, 67, 0.15);\n",
              "      fill: #174EA6;\n",
              "    }\n",
              "\n",
              "    [theme=dark] .colab-df-convert {\n",
              "      background-color: #3B4455;\n",
              "      fill: #D2E3FC;\n",
              "    }\n",
              "\n",
              "    [theme=dark] .colab-df-convert:hover {\n",
              "      background-color: #434B5C;\n",
              "      box-shadow: 0px 1px 3px 1px rgba(0, 0, 0, 0.15);\n",
              "      filter: drop-shadow(0px 1px 2px rgba(0, 0, 0, 0.3));\n",
              "      fill: #FFFFFF;\n",
              "    }\n",
              "  </style>\n",
              "\n",
              "      <script>\n",
              "        const buttonEl =\n",
              "          document.querySelector('#df-c1a9b9b3-fc5a-4961-ac6f-345dfa8ff2c9 button.colab-df-convert');\n",
              "        buttonEl.style.display =\n",
              "          google.colab.kernel.accessAllowed ? 'block' : 'none';\n",
              "\n",
              "        async function convertToInteractive(key) {\n",
              "          const element = document.querySelector('#df-c1a9b9b3-fc5a-4961-ac6f-345dfa8ff2c9');\n",
              "          const dataTable =\n",
              "            await google.colab.kernel.invokeFunction('convertToInteractive',\n",
              "                                                     [key], {});\n",
              "          if (!dataTable) return;\n",
              "\n",
              "          const docLinkHtml = 'Like what you see? Visit the ' +\n",
              "            '<a target=\"_blank\" href=https://colab.research.google.com/notebooks/data_table.ipynb>data table notebook</a>'\n",
              "            + ' to learn more about interactive tables.';\n",
              "          element.innerHTML = '';\n",
              "          dataTable['output_type'] = 'display_data';\n",
              "          await google.colab.output.renderOutput(dataTable, element);\n",
              "          const docLink = document.createElement('div');\n",
              "          docLink.innerHTML = docLinkHtml;\n",
              "          element.appendChild(docLink);\n",
              "        }\n",
              "      </script>\n",
              "    </div>\n",
              "  </div>\n",
              "  "
            ]
          },
          "metadata": {},
          "execution_count": 84
        }
      ]
    },
    {
      "cell_type": "code",
      "source": [
        "print(temp_train[\"road_rating\"].value_counts())\n",
        "print(temp_train[\"weight_restricted\"].value_counts())\n",
        "print(\"----------------------------------\")\n",
        "print(train[(train[\"road_rating\"] == 107) & (train[\"weight_restricted\"] == 43200.0)][\"road_name\"].value_counts())\n",
        "print(train[(train[\"road_rating\"] == 107) & (train[\"weight_restricted\"] == 32400.0)][\"road_name\"].value_counts())"
      ],
      "metadata": {
        "colab": {
          "base_uri": "https://localhost:8080/"
        },
        "id": "1lyGZJtroHq9",
        "outputId": "f15f6edc-c1a8-4b14-c3aa-d6f698e1a2bf"
      },
      "execution_count": 85,
      "outputs": [
        {
          "output_type": "stream",
          "name": "stdout",
          "text": [
            "107    569463\n",
            "Name: road_rating, dtype: int64\n",
            "0.0        481943\n",
            "43200.0     68013\n",
            "32400.0     19507\n",
            "Name: weight_restricted, dtype: int64\n",
            "----------------------------------\n",
            "-      68013\n",
            "중문로    11336\n",
            "Name: road_name, dtype: int64\n",
            "-      19507\n",
            "산서로     7940\n",
            "Name: road_name, dtype: int64\n"
          ]
        }
      ]
    },
    {
      "cell_type": "code",
      "source": [
        "# .loc로 값 대체하기 전의 수 = 569463\n",
        "print(len(train[train[\"road_name\"] == \"-\"]))\n",
        "train.loc[(train[\"road_rating\"] == 107) & (train[\"weight_restricted\"] == 32400.0) & (train[\"road_name\"] == \"-\"), \"road_name\"] = \"산서로\"\n",
        "train.loc[(train[\"road_rating\"] == 107) & (train[\"weight_restricted\"] == 43200.0) & (train[\"road_name\"] == \"-\"), \"road_name\"] = \"중문로\"\n",
        "\n",
        "test.loc[(test[\"road_rating\"] == 107) & (test[\"weight_restricted\"] == 32400.0) & (test[\"road_name\"] == \"-\"), \"road_name\"] = \"산서로\"\n",
        "test.loc[(test[\"road_rating\"] == 107) & (test[\"weight_restricted\"] == 43200.0) & (test[\"road_name\"] == \"-\"), \"road_name\"] = \"중문로\"\n",
        "\n",
        "# .loc로 값 대체한 이후의 수 = 481943\n",
        "print(len(train[train[\"road_name\"] == \"-\"]))"
      ],
      "metadata": {
        "colab": {
          "base_uri": "https://localhost:8080/"
        },
        "id": "IXImWxgJoHx0",
        "outputId": "95dc7ac8-3657-4796-c691-0892736c1e80"
      },
      "execution_count": 86,
      "outputs": [
        {
          "output_type": "stream",
          "name": "stdout",
          "text": [
            "569463\n",
            "481943\n"
          ]
        }
      ]
    },
    {
      "cell_type": "code",
      "source": [
        "# \"-\" 값 대체를 위한 탐색\"\n",
        "# 모든 값을 뽑으면 너무 길어지기에, 2개 값만을 출력합니다.\n",
        "for i in train[\"start_node_name\"].unique():\n",
        "    if (len(train[(train[\"start_node_name\"] == i)][\"road_name\"].value_counts()) != 2) :\n",
        "        continue\n",
        "    if \"-\" in train[(train[\"start_node_name\"] == i)][\"road_name\"].value_counts().index:\n",
        "        print(\"----------------\", i, \"-------------------\")\n",
        "        print(train[(train[\"start_node_name\"] == i)][\"road_name\"].value_counts())"
      ],
      "metadata": {
        "colab": {
          "base_uri": "https://localhost:8080/"
        },
        "id": "qO5DF2taoH3H",
        "outputId": "c1401fbc-738f-4928-afc1-fd28a855fb8f"
      },
      "execution_count": 87,
      "outputs": [
        {
          "output_type": "stream",
          "name": "stdout",
          "text": [
            "---------------- 송목교 -------------------\n",
            "중문로    10390\n",
            "-       5183\n",
            "Name: road_name, dtype: int64\n",
            "---------------- 남수교 -------------------\n",
            "중문로    10360\n",
            "-       5156\n",
            "Name: road_name, dtype: int64\n",
            "---------------- 하귀입구 -------------------\n",
            "일반국도12호선    10656\n",
            "-            5190\n",
            "Name: road_name, dtype: int64\n",
            "---------------- 양계장 -------------------\n",
            "-           5330\n",
            "일반국도12호선    5329\n",
            "Name: road_name, dtype: int64\n",
            "---------------- 난산입구 -------------------\n",
            "지방도1119호선    4923\n",
            "-            3113\n",
            "Name: road_name, dtype: int64\n",
            "---------------- 영주교 -------------------\n",
            "일반국도11호선    23909\n",
            "-             472\n",
            "Name: road_name, dtype: int64\n",
            "---------------- 서중2교 -------------------\n",
            "중문로    10380\n",
            "-       5204\n",
            "Name: road_name, dtype: int64\n",
            "---------------- 천제이교 -------------------\n",
            "-      10930\n",
            "산서로    10706\n",
            "Name: road_name, dtype: int64\n",
            "---------------- 하나로교 -------------------\n",
            "중문로    10578\n",
            "-       5282\n",
            "Name: road_name, dtype: int64\n",
            "---------------- 신하교 -------------------\n",
            "중문로    10390\n",
            "-       5205\n",
            "Name: road_name, dtype: int64\n",
            "---------------- 야영장 -------------------\n",
            "관광단지1로    5570\n",
            "-         5415\n",
            "Name: road_name, dtype: int64\n",
            "---------------- 월계교 -------------------\n",
            "-      9073\n",
            "산서로    8801\n",
            "Name: road_name, dtype: int64\n",
            "---------------- 서울이용원 -------------------\n",
            "태평로    11669\n",
            "-       1425\n",
            "Name: road_name, dtype: int64\n",
            "---------------- 김녕교차로 -------------------\n",
            "일반국도12호선    5312\n",
            "-           3107\n",
            "Name: road_name, dtype: int64\n",
            "---------------- 어도초등교 -------------------\n",
            "-           7300\n",
            "일반국도16호선    4942\n",
            "Name: road_name, dtype: int64\n",
            "---------------- 광삼교 -------------------\n",
            "중문로    5341\n",
            "-      5333\n",
            "Name: road_name, dtype: int64\n",
            "---------------- 오렌지농원 -------------------\n",
            "일반국도11호선    5933\n",
            "-            464\n",
            "Name: road_name, dtype: int64\n",
            "---------------- 우사 -------------------\n",
            "-           10036\n",
            "일반국도16호선     1651\n",
            "Name: road_name, dtype: int64\n",
            "---------------- 서귀포시산림조합 -------------------\n",
            "지방도1136호선    5951\n",
            "-            4200\n",
            "Name: road_name, dtype: int64\n",
            "---------------- 성읍삼거리 -------------------\n",
            "일반국도16호선    4991\n",
            "-           4857\n",
            "Name: road_name, dtype: int64\n"
          ]
        }
      ]
    },
    {
      "cell_type": "code",
      "source": [
        "print(len(train[train[\"road_name\"] == \"-\"]))\n",
        "\n",
        "train.loc[(train[\"start_node_name\"] == \"송목교\") & (train[\"road_name\"] == \"-\"), \"road_name\"] = \"중문로\"\n",
        "train.loc[(train[\"start_node_name\"] == \"남수교\") & (train[\"road_name\"] == \"-\"), \"road_name\"] = \"중문로\"\n",
        "train.loc[(train[\"start_node_name\"] == \"하귀입구\") & (train[\"road_name\"] == \"-\"), \"road_name\"] = \"일반국도12호선\"\n",
        "train.loc[(train[\"start_node_name\"] == \"양계장\") & (train[\"road_name\"] == \"-\"), \"road_name\"] = \"일반국도12호선\"\n",
        "train.loc[(train[\"start_node_name\"] == \"난산입구\") & (train[\"road_name\"] == \"-\"), \"road_name\"] = \"지방도1119호선\"\n",
        "train.loc[(train[\"start_node_name\"] == \"영주교\") & (train[\"road_name\"] == \"-\"), \"road_name\"] = \"일반국도11호선\"\n",
        "train.loc[(train[\"start_node_name\"] == \"서중2교\") & (train[\"road_name\"] == \"-\"), \"road_name\"] = \"중문로\"\n",
        "train.loc[(train[\"start_node_name\"] == \"천제이교\") & (train[\"road_name\"] == \"-\"), \"road_name\"] = \"산서로\"\n",
        "train.loc[(train[\"start_node_name\"] == \"하나로교\") & (train[\"road_name\"] == \"-\"), \"road_name\"] = \"중문로\"\n",
        "train.loc[(train[\"start_node_name\"] == \"신하교\") & (train[\"road_name\"] == \"-\"), \"road_name\"] = \"중문로\"\n",
        "train.loc[(train[\"start_node_name\"] == \"야영장\") & (train[\"road_name\"] == \"-\"), \"road_name\"] = \"관광단지1로\"\n",
        "train.loc[(train[\"start_node_name\"] == \"월계교\") & (train[\"road_name\"] == \"-\"), \"road_name\"] = \"산서로\"\n",
        "train.loc[(train[\"start_node_name\"] == \"서울이용원\") & (train[\"road_name\"] == \"-\"), \"road_name\"] = \"태평로\"\n",
        "train.loc[(train[\"start_node_name\"] == \"김녕교차로\") & (train[\"road_name\"] == \"-\"), \"road_name\"] = \"일반국도12호선\"\n",
        "train.loc[(train[\"start_node_name\"] == \"어도초등교\") & (train[\"road_name\"] == \"-\"), \"road_name\"] = \"일반국도16호선\"\n",
        "train.loc[(train[\"start_node_name\"] == \"광삼교\") & (train[\"road_name\"] == \"-\"), \"road_name\"] = \"중문로\"\n",
        "train.loc[(train[\"start_node_name\"] == \"오렌지농원\") & (train[\"road_name\"] == \"-\"), \"road_name\"] = \"일반국도11호선\"\n",
        "train.loc[(train[\"start_node_name\"] == \"우사\") & (train[\"road_name\"] == \"-\"), \"road_name\"] = \"일반국도16호선\"\n",
        "train.loc[(train[\"start_node_name\"] == \"서귀포시산림조합\") & (train[\"road_name\"] == \"-\"), \"road_name\"] = \"지방도1136호선\"\n",
        "train.loc[(train[\"start_node_name\"] == \"성읍삼거리\") & (train[\"road_name\"] == \"-\"), \"road_name\"] = \"일반국도16호선\"\n",
        "\n",
        "test.loc[(test[\"start_node_name\"] == \"송목교\") & (test[\"road_name\"] == \"-\"), \"road_name\"] = \"중문로\"\n",
        "test.loc[(test[\"start_node_name\"] == \"남수교\") & (test[\"road_name\"] == \"-\"), \"road_name\"] = \"중문로\"\n",
        "test.loc[(test[\"start_node_name\"] == \"하귀입구\") & (test[\"road_name\"] == \"-\"), \"road_name\"] = \"일반국도12호선\"\n",
        "test.loc[(test[\"start_node_name\"] == \"양계장\") & (test[\"road_name\"] == \"-\"), \"road_name\"] = \"일반국도12호선\"\n",
        "test.loc[(test[\"start_node_name\"] == \"난산입구\") & (test[\"road_name\"] == \"-\"), \"road_name\"] = \"지방도1119호선\"\n",
        "test.loc[(test[\"start_node_name\"] == \"영주교\") & (test[\"road_name\"] == \"-\"), \"road_name\"] = \"일반국도11호선\"\n",
        "test.loc[(test[\"start_node_name\"] == \"서중2교\") & (test[\"road_name\"] == \"-\"), \"road_name\"] = \"중문로\"\n",
        "test.loc[(test[\"start_node_name\"] == \"천제이교\") & (test[\"road_name\"] == \"-\"), \"road_name\"] = \"산서로\"\n",
        "test.loc[(test[\"start_node_name\"] == \"하나로교\") & (test[\"road_name\"] == \"-\"), \"road_name\"] = \"중문로\"\n",
        "test.loc[(test[\"start_node_name\"] == \"신하교\") & (test[\"road_name\"] == \"-\"), \"road_name\"] = \"중문로\"\n",
        "test.loc[(test[\"start_node_name\"] == \"야영장\") & (test[\"road_name\"] == \"-\"), \"road_name\"] = \"관광단지1로\"\n",
        "test.loc[(test[\"start_node_name\"] == \"월계교\") & (test[\"road_name\"] == \"-\"), \"road_name\"] = \"산서로\"\n",
        "test.loc[(test[\"start_node_name\"] == \"서울이용원\") & (test[\"road_name\"] == \"-\"), \"road_name\"] = \"태평로\"\n",
        "test.loc[(test[\"start_node_name\"] == \"김녕교차로\") & (test[\"road_name\"] == \"-\"), \"road_name\"] = \"일반국도12호선\"\n",
        "test.loc[(test[\"start_node_name\"] == \"어도초등교\") & (test[\"road_name\"] == \"-\"), \"road_name\"] = \"일반국도16호선\"\n",
        "test.loc[(test[\"start_node_name\"] == \"광삼교\") & (test[\"road_name\"] == \"-\"), \"road_name\"] = \"중문로\"\n",
        "test.loc[(test[\"start_node_name\"] == \"오렌지농원\") & (test[\"road_name\"] == \"-\"), \"road_name\"] = \"일반국도11호선\"\n",
        "test.loc[(test[\"start_node_name\"] == \"우사\") & (test[\"road_name\"] == \"-\"), \"road_name\"] = \"일반국도16호선\"\n",
        "test.loc[(test[\"start_node_name\"] == \"서귀포시산림조합\") & (test[\"road_name\"] == \"-\"), \"road_name\"] = \"지방도1136호선\"\n",
        "test.loc[(test[\"start_node_name\"] == \"성읍삼거리\") & (test[\"road_name\"] == \"-\"), \"road_name\"] = \"일반국도16호선\"\n",
        "\n",
        "print(len(train[train[\"road_name\"] == \"-\"]))"
      ],
      "metadata": {
        "colab": {
          "base_uri": "https://localhost:8080/"
        },
        "id": "1rXD-HBqoWYt",
        "outputId": "a0228310-3715-4622-e3db-05c437b50e43"
      },
      "execution_count": 88,
      "outputs": [
        {
          "output_type": "stream",
          "name": "stdout",
          "text": [
            "481943\n",
            "379668\n"
          ]
        }
      ]
    },
    {
      "cell_type": "code",
      "source": [
        "# \"-\" 값 대체를 위한 탐색\"\n",
        "for i in train[\"end_node_name\"].unique():\n",
        "    if (len(train[(train[\"end_node_name\"] == i)][\"road_name\"].value_counts()) != 2) :\n",
        "        continue\n",
        "    if \"-\" in train[(train[\"end_node_name\"] == i)][\"road_name\"].value_counts().index:\n",
        "        print(\"----------------\", i, \"-------------------\")\n",
        "        print(train[(train[\"end_node_name\"] == i)][\"road_name\"].value_counts())"
      ],
      "metadata": {
        "colab": {
          "base_uri": "https://localhost:8080/"
        },
        "id": "r2EMUBdaoWd1",
        "outputId": "d589f3b6-5ff6-4367-a817-495bf009ba82"
      },
      "execution_count": 89,
      "outputs": [
        {
          "output_type": "stream",
          "name": "stdout",
          "text": [
            "---------------- 남수교 -------------------\n",
            "중문로    10360\n",
            "-       5187\n",
            "Name: road_name, dtype: int64\n",
            "---------------- 농협주유소 -------------------\n",
            "-      8053\n",
            "산서로    5089\n",
            "Name: road_name, dtype: int64\n",
            "---------------- 난산입구 -------------------\n",
            "지방도1119호선    4978\n",
            "-            2946\n",
            "Name: road_name, dtype: int64\n",
            "---------------- 성읍삼거리 -------------------\n",
            "일반국도16호선    5030\n",
            "-           4670\n",
            "Name: road_name, dtype: int64\n",
            "---------------- 김녕교차로 -------------------\n",
            "일반국도12호선    5281\n",
            "-           3266\n",
            "Name: road_name, dtype: int64\n",
            "---------------- 한남교차로 -------------------\n",
            "중문로    5204\n",
            "-      5198\n",
            "Name: road_name, dtype: int64\n",
            "---------------- 서울이용원 -------------------\n",
            "태평로    11653\n",
            "-       1417\n",
            "Name: road_name, dtype: int64\n",
            "---------------- 하귀입구 -------------------\n",
            "일반국도12호선    10661\n",
            "-            5144\n",
            "Name: road_name, dtype: int64\n",
            "---------------- 우사 -------------------\n",
            "일반국도16호선    7677\n",
            "-           4784\n",
            "Name: road_name, dtype: int64\n",
            "---------------- 어도초등교 -------------------\n",
            "-           7053\n",
            "일반국도16호선    5135\n",
            "Name: road_name, dtype: int64\n",
            "---------------- 월계교 -------------------\n",
            "-      9598\n",
            "산서로    8801\n",
            "Name: road_name, dtype: int64\n",
            "---------------- 양계장 -------------------\n",
            "일반국도12호선    5352\n",
            "-           5331\n",
            "Name: road_name, dtype: int64\n",
            "---------------- 하나로교 -------------------\n",
            "중문로    10578\n",
            "-       5306\n",
            "Name: road_name, dtype: int64\n",
            "---------------- 광삼교 -------------------\n",
            "-      5342\n",
            "중문로    5341\n",
            "Name: road_name, dtype: int64\n",
            "---------------- 수간교차로 -------------------\n",
            "일반국도12호선    5330\n",
            "-           5329\n",
            "Name: road_name, dtype: int64\n",
            "---------------- 난산사거리 -------------------\n",
            "지방도1119호선    3113\n",
            "-            2841\n",
            "Name: road_name, dtype: int64\n",
            "---------------- 서중2교 -------------------\n",
            "중문로    10380\n",
            "-       5187\n",
            "Name: road_name, dtype: int64\n",
            "---------------- 서귀포시산림조합 -------------------\n",
            "지방도1136호선    5962\n",
            "-            5471\n",
            "Name: road_name, dtype: int64\n",
            "---------------- 옹포사거리 -------------------\n",
            "-      4338\n",
            "산서로    3984\n",
            "Name: road_name, dtype: int64\n",
            "---------------- 진은교차로 -------------------\n",
            "-      5307\n",
            "중문로    5282\n",
            "Name: road_name, dtype: int64\n"
          ]
        }
      ]
    },
    {
      "cell_type": "code",
      "source": [
        "print(len(train[train[\"road_name\"] == \"-\"]))\n",
        "\n",
        "train.loc[(train[\"end_node_name\"] == \"남수교\") & (train[\"road_name\"] == \"-\"), \"road_name\"] = \"중문로\"\n",
        "train.loc[(train[\"end_node_name\"] == \"농협주유소\") & (train[\"road_name\"] == \"-\"), \"road_name\"] = \"월계교\"\n",
        "train.loc[(train[\"end_node_name\"] == \"난산입구\") & (train[\"road_name\"] == \"-\"), \"road_name\"] = \"지방도1119호선\"\n",
        "train.loc[(train[\"end_node_name\"] == \"성읍삼거리\") & (train[\"road_name\"] == \"-\"), \"road_name\"] = \"일반국도16호선\"\n",
        "train.loc[(train[\"end_node_name\"] == \"김녕교차로\") & (train[\"road_name\"] == \"-\"), \"road_name\"] = \"일반국도12호선\"\n",
        "train.loc[(train[\"end_node_name\"] == \"한남교차로\") & (train[\"road_name\"] == \"-\"), \"road_name\"] = \"서중2교\"\n",
        "train.loc[(train[\"end_node_name\"] == \"서울이용원\") & (train[\"road_name\"] == \"-\"), \"road_name\"] = \"태평로\"\n",
        "train.loc[(train[\"end_node_name\"] == \"하귀입구\") & (train[\"road_name\"] == \"-\"), \"road_name\"] = \"일반국도12호선\"\n",
        "train.loc[(train[\"end_node_name\"] == \"어도초등교\") & (train[\"road_name\"] == \"-\"), \"road_name\"] = \"일반국도16호선\"\n",
        "train.loc[(train[\"end_node_name\"] == \"월계교\") & (train[\"road_name\"] == \"-\"), \"road_name\"] = \"산서로\"\n",
        "train.loc[(train[\"end_node_name\"] == \"양계장\") & (train[\"road_name\"] == \"-\"), \"road_name\"] = \"일반국도12호선\"\n",
        "train.loc[(train[\"end_node_name\"] == \"하나로교\") & (train[\"road_name\"] == \"-\"), \"road_name\"] = \"중문로\"\n",
        "train.loc[(train[\"end_node_name\"] == \"광삼교\") & (train[\"road_name\"] == \"-\"), \"road_name\"] = \"중문로\"\n",
        "train.loc[(train[\"end_node_name\"] == \"수간교차로\") & (train[\"road_name\"] == \"-\"), \"road_name\"] = \"양계장\"\n",
        "train.loc[(train[\"end_node_name\"] == \"난산사거리\") & (train[\"road_name\"] == \"-\"), \"road_name\"] = \"난산입구\"\n",
        "train.loc[(train[\"end_node_name\"] == \"서중2교\") & (train[\"road_name\"] == \"-\"), \"road_name\"] = \"중문로\"\n",
        "train.loc[(train[\"end_node_name\"] == \"서귀포시산림조합\") & (train[\"road_name\"] == \"-\"), \"road_name\"] = \"지방도1136호선\"\n",
        "train.loc[(train[\"end_node_name\"] == \"옹포사거리\") & (train[\"road_name\"] == \"-\"), \"road_name\"] = \"월계교\"\n",
        "train.loc[(train[\"end_node_name\"] == \"진은교차로\") & (train[\"road_name\"] == \"-\"), \"road_name\"] = \"하나로교\"\n",
        "\n",
        "test.loc[(test[\"end_node_name\"] == \"남수교\") & (test[\"road_name\"] == \"-\"), \"road_name\"] = \"중문로\"\n",
        "test.loc[(test[\"end_node_name\"] == \"농협주유소\") & (test[\"road_name\"] == \"-\"), \"road_name\"] = \"월계교\"\n",
        "test.loc[(test[\"end_node_name\"] == \"난산입구\") & (test[\"road_name\"] == \"-\"), \"road_name\"] = \"지방도1119호선\"\n",
        "test.loc[(test[\"end_node_name\"] == \"성읍삼거리\") & (test[\"road_name\"] == \"-\"), \"road_name\"] = \"일반국도16호선\"\n",
        "test.loc[(test[\"end_node_name\"] == \"김녕교차로\") & (test[\"road_name\"] == \"-\"), \"road_name\"] = \"일반국도12호선\"\n",
        "test.loc[(test[\"end_node_name\"] == \"한남교차로\") & (test[\"road_name\"] == \"-\"), \"road_name\"] = \"서중2교\"\n",
        "test.loc[(test[\"end_node_name\"] == \"서울이용원\") & (test[\"road_name\"] == \"-\"), \"road_name\"] = \"태평로\"\n",
        "test.loc[(test[\"end_node_name\"] == \"하귀입구\") & (test[\"road_name\"] == \"-\"), \"road_name\"] = \"일반국도12호선\"\n",
        "test.loc[(test[\"end_node_name\"] == \"어도초등교\") & (test[\"road_name\"] == \"-\"), \"road_name\"] = \"일반국도16호선\"\n",
        "test.loc[(test[\"end_node_name\"] == \"월계교\") & (test[\"road_name\"] == \"-\"), \"road_name\"] = \"산서로\"\n",
        "test.loc[(test[\"end_node_name\"] == \"양계장\") & (test[\"road_name\"] == \"-\"), \"road_name\"] = \"일반국도12호선\"\n",
        "test.loc[(test[\"end_node_name\"] == \"하나로교\") & (test[\"road_name\"] == \"-\"), \"road_name\"] = \"중문로\"\n",
        "test.loc[(test[\"end_node_name\"] == \"광삼교\") & (test[\"road_name\"] == \"-\"), \"road_name\"] = \"중문로\"\n",
        "test.loc[(test[\"end_node_name\"] == \"수간교차로\") & (test[\"road_name\"] == \"-\"), \"road_name\"] = \"양계장\"\n",
        "test.loc[(test[\"end_node_name\"] == \"난산사거리\") & (test[\"road_name\"] == \"-\"), \"road_name\"] = \"난산입구\"\n",
        "test.loc[(test[\"end_node_name\"] == \"서중2교\") & (test[\"road_name\"] == \"-\"), \"road_name\"] = \"중문로\"\n",
        "test.loc[(test[\"end_node_name\"] == \"서귀포시산림조합\") & (test[\"road_name\"] == \"-\"), \"road_name\"] = \"지방도1136호선\"\n",
        "test.loc[(test[\"end_node_name\"] == \"옹포사거리\") & (test[\"road_name\"] == \"-\"), \"road_name\"] = \"월계교\"\n",
        "test.loc[(test[\"end_node_name\"] == \"진은교차로\") & (test[\"road_name\"] == \"-\"), \"road_name\"] = \"하나로교\"\n",
        "\n",
        "print(len(train[train[\"road_name\"] == \"-\"]))"
      ],
      "metadata": {
        "colab": {
          "base_uri": "https://localhost:8080/"
        },
        "id": "GLqgrCXLoWhs",
        "outputId": "7eaa3778-05aa-4e93-f01e-cadcc4adcab0"
      },
      "execution_count": 90,
      "outputs": [
        {
          "output_type": "stream",
          "name": "stdout",
          "text": [
            "379668\n",
            "282684\n"
          ]
        }
      ]
    },
    {
      "cell_type": "code",
      "source": [
        "# 소숫점 문제상 출력된 값을 그대로 사용한다면 값을 대체할 수 없는 문제가 있습니다.\n",
        "# 이를 해결하기 위해서 소숫점의 자릿수를 제한하겠습니다.\n",
        "print(train[\"start_latitude\"].nunique(),train[\"start_longitude\"].nunique(), train[\"end_latitude\"].nunique(), train[\"end_longitude\"].nunique())\n",
        "\n",
        "# 7번째자리에서 반올림 할 경우 train에서의 고윳값 갯수가 변하지 않습니다\n",
        "train[[\"start_latitude\", \"start_longitude\", \"end_latitude\", \"end_longitude\"]] = train[[\"start_latitude\", \"start_longitude\", \"end_latitude\", \"end_longitude\"]].apply(lambda x: round(x, 6))\n",
        "test[[\"start_latitude\", \"start_longitude\", \"end_latitude\", \"end_longitude\"]] = test[[\"start_latitude\", \"start_longitude\", \"end_latitude\", \"end_longitude\"]].apply(lambda x: round(x, 6))\n",
        "\n",
        "print(train[\"start_latitude\"].nunique(),train[\"start_longitude\"].nunique(), train[\"end_latitude\"].nunique(), train[\"end_longitude\"].nunique())"
      ],
      "metadata": {
        "colab": {
          "base_uri": "https://localhost:8080/"
        },
        "id": "7dSoDmeRoddR",
        "outputId": "f6b483f2-109e-491b-8895-a9b0e30be5a4"
      },
      "execution_count": 91,
      "outputs": [
        {
          "output_type": "stream",
          "name": "stdout",
          "text": [
            "586 586 586 586\n",
            "586 586 586 586\n"
          ]
        }
      ]
    },
    {
      "cell_type": "code",
      "source": [
        "for i in train[\"start_latitude\"].unique():\n",
        "    if (len(train[(train[\"start_latitude\"] == i)][\"road_name\"].value_counts()) != 2) :\n",
        "        continue\n",
        "    if \"-\" in train[(train[\"start_latitude\"] == i)][\"road_name\"].value_counts().index:\n",
        "        print(\"----------------\", i, \"-------------------\")\n",
        "        print(train[(train[\"start_latitude\"] == i)][\"road_name\"].value_counts())\n"
      ],
      "metadata": {
        "colab": {
          "base_uri": "https://localhost:8080/"
        },
        "id": "gmZwJbBeodiT",
        "outputId": "673ce774-d47c-4672-8b13-2e91b1f316c1"
      },
      "execution_count": 92,
      "outputs": [
        {
          "output_type": "stream",
          "name": "stdout",
          "text": [
            "---------------- 33.409416 -------------------\n",
            "-      3321\n",
            "월계교    3184\n",
            "Name: road_name, dtype: int64\n",
            "---------------- 33.402546 -------------------\n",
            "-            2953\n",
            "지방도1119호선    2946\n",
            "Name: road_name, dtype: int64\n",
            "---------------- 33.471164 -------------------\n",
            "-           5334\n",
            "일반국도12호선    5331\n",
            "Name: road_name, dtype: int64\n",
            "---------------- 33.411255 -------------------\n",
            "-      7382\n",
            "월계교    4338\n",
            "Name: road_name, dtype: int64\n",
            "---------------- 33.405319 -------------------\n",
            "산서로    4821\n",
            "-      4159\n",
            "Name: road_name, dtype: int64\n",
            "---------------- 33.322018 -------------------\n",
            "서중2교    5198\n",
            "-       2396\n",
            "Name: road_name, dtype: int64\n",
            "---------------- 33.325096 -------------------\n",
            "중문로    5187\n",
            "-      5187\n",
            "Name: road_name, dtype: int64\n",
            "---------------- 33.408431 -------------------\n",
            "-      8441\n",
            "산서로    4777\n",
            "Name: road_name, dtype: int64\n",
            "---------------- 33.284189 -------------------\n",
            "중문로    5306\n",
            "-      5288\n",
            "Name: road_name, dtype: int64\n",
            "---------------- 33.47339 -------------------\n",
            "-      5344\n",
            "양계장    5329\n",
            "Name: road_name, dtype: int64\n"
          ]
        }
      ]
    },
    {
      "cell_type": "code",
      "source": [
        "print(len(train[train[\"road_name\"] == \"-\"]))\n",
        "\n",
        "train.loc[(train[\"start_latitude\"] == 33.409416) & (train[\"road_name\"] == \"-\"), \"road_name\"] = \"월계교\"\n",
        "train.loc[(train[\"start_latitude\"] == 33.402546) & (train[\"road_name\"] == \"-\"), \"road_name\"] = \"지방도1119호선\"\n",
        "train.loc[(train[\"start_latitude\"] == 33.471164) & (train[\"road_name\"] == \"-\"), \"road_name\"] = \"일반국도12호선\"\n",
        "train.loc[(train[\"start_latitude\"] == 33.411255) & (train[\"road_name\"] == \"-\"), \"road_name\"] = \"월계교\"\n",
        "train.loc[(train[\"start_latitude\"] == 33.405319) & (train[\"road_name\"] == \"-\"), \"road_name\"] = \"산서로\"\n",
        "train.loc[(train[\"start_latitude\"] == 33.322018) & (train[\"road_name\"] == \"-\"), \"road_name\"] = \"서중2교\"\n",
        "train.loc[(train[\"start_latitude\"] == 33.325096) & (train[\"road_name\"] == \"-\"), \"road_name\"] = \"중문로\"\n",
        "train.loc[(train[\"start_latitude\"] == 33.408431) & (train[\"road_name\"] == \"-\"), \"road_name\"] = \"산서로\"\n",
        "train.loc[(train[\"start_latitude\"] == 33.284189) & (train[\"road_name\"] == \"-\"), \"road_name\"] = \"중문로\"\n",
        "train.loc[(train[\"start_latitude\"] == 33.47339) & (train[\"road_name\"] == \"-\"), \"road_name\"] = \"양계장\"\n",
        "\n",
        "test.loc[(test[\"start_latitude\"] == 33.409416) & (test[\"road_name\"] == \"-\"), \"road_name\"] = \"월계교\"\n",
        "test.loc[(test[\"start_latitude\"] == 33.402546) & (test[\"road_name\"] == \"-\"), \"road_name\"] = \"지방도1119호선\"\n",
        "test.loc[(test[\"start_latitude\"] == 33.471164) & (test[\"road_name\"] == \"-\"), \"road_name\"] = \"일반국도12호선\"\n",
        "test.loc[(test[\"start_latitude\"] == 33.411255) & (test[\"road_name\"] == \"-\"), \"road_name\"] = \"월계교\"\n",
        "test.loc[(test[\"start_latitude\"] == 33.405319) & (test[\"road_name\"] == \"-\"), \"road_name\"] = \"산서로\"\n",
        "test.loc[(test[\"start_latitude\"] == 33.322018) & (test[\"road_name\"] == \"-\"), \"road_name\"] = \"서중2교\"\n",
        "test.loc[(test[\"start_latitude\"] == 33.325096) & (test[\"road_name\"] == \"-\"), \"road_name\"] = \"중문로\"\n",
        "test.loc[(test[\"start_latitude\"] == 33.408431) & (test[\"road_name\"] == \"-\"), \"road_name\"] = \"산서로\"\n",
        "test.loc[(test[\"start_latitude\"] == 33.284189) & (test[\"road_name\"] == \"-\"), \"road_name\"] = \"중문로\"\n",
        "test.loc[(test[\"start_latitude\"] == 33.47339) & (test[\"road_name\"] == \"-\"), \"road_name\"] = \"양계장\"\n",
        "\n",
        "print(len(train[train[\"road_name\"] == \"-\"]))"
      ],
      "metadata": {
        "colab": {
          "base_uri": "https://localhost:8080/"
        },
        "id": "08TvWQrFodmm",
        "outputId": "0e8a7800-6423-4a06-d691-ad42f2c536ef"
      },
      "execution_count": 93,
      "outputs": [
        {
          "output_type": "stream",
          "name": "stdout",
          "text": [
            "282684\n",
            "232879\n"
          ]
        }
      ]
    },
    {
      "cell_type": "code",
      "source": [
        "# \"-\" 값 대체를 위한 탐색\"\n",
        "for i in train[\"end_latitude\"].unique():\n",
        "    if (len(train[(train[\"end_latitude\"] == i)][\"road_name\"].value_counts()) != 2) :\n",
        "        continue\n",
        "    if \"-\" in train[(train[\"end_latitude\"] == i)][\"road_name\"].value_counts().index:\n",
        "        print(\"----------------\", i, \"-------------------\")\n",
        "        print(train[(train[\"end_latitude\"] == i)][\"road_name\"].value_counts())\n"
      ],
      "metadata": {
        "colab": {
          "base_uri": "https://localhost:8080/"
        },
        "id": "N6hbTA7-odpL",
        "outputId": "19ceda29-aeed-4224-e58c-191bff861281"
      },
      "execution_count": 94,
      "outputs": [
        {
          "output_type": "stream",
          "name": "stdout",
          "text": [
            "---------------- 33.47339 -------------------\n",
            "-           5338\n",
            "일반국도12호선    5334\n",
            "Name: road_name, dtype: int64\n",
            "---------------- 33.358358 -------------------\n",
            "-           4784\n",
            "일반국도16호선    2251\n",
            "Name: road_name, dtype: int64\n",
            "---------------- 33.412573 -------------------\n",
            "-      4389\n",
            "월계교    4199\n",
            "Name: road_name, dtype: int64\n",
            "---------------- 33.244882 -------------------\n",
            "-      5528\n",
            "산서로    5415\n",
            "Name: road_name, dtype: int64\n",
            "---------------- 33.322018 -------------------\n",
            "중문로    5187\n",
            "-      2493\n",
            "Name: road_name, dtype: int64\n"
          ]
        }
      ]
    },
    {
      "cell_type": "code",
      "source": [
        "train.loc[(train[\"end_latitude\"] == 33.47339) & (train[\"road_name\"] == \"-\"), \"road_name\"] = \"일반국도12호선\"\n",
        "train.loc[(train[\"end_latitude\"] == 33.358358) & (train[\"road_name\"] == \"-\"), \"road_name\"] = \"일반국도16호선\"\n",
        "train.loc[(train[\"end_latitude\"] == 33.412573) & (train[\"road_name\"] == \"-\"), \"road_name\"] = \"월계교\"\n",
        "train.loc[(train[\"end_latitude\"] == 33.244882) & (train[\"road_name\"] == \"-\"), \"road_name\"] = \"산서로\"\n",
        "train.loc[(train[\"end_latitude\"] == 33.322018) & (train[\"road_name\"] == \"-\"), \"road_name\"] = \"중문로\"\n",
        "\n",
        "test.loc[(test[\"end_latitude\"] == 33.47339) & (test[\"road_name\"] == \"-\"), \"road_name\"] = \"일반국도12호선\"\n",
        "test.loc[(test[\"end_latitude\"] == 33.358358) & (test[\"road_name\"] == \"-\"), \"road_name\"] = \"일반국도16호선\"\n",
        "test.loc[(test[\"end_latitude\"] == 33.412573) & (test[\"road_name\"] == \"-\"), \"road_name\"] = \"월계교\"\n",
        "test.loc[(test[\"end_latitude\"] == 33.244882) & (test[\"road_name\"] == \"-\"), \"road_name\"] = \"산서로\"\n",
        "test.loc[(test[\"end_latitude\"] == 33.322018) & (test[\"road_name\"] == \"-\"), \"road_name\"] = \"중문로\""
      ],
      "metadata": {
        "id": "C0O48AW-odrT"
      },
      "execution_count": 95,
      "outputs": []
    },
    {
      "cell_type": "code",
      "source": [
        "# \"-\" 값 대체를 위한 탐색\"\n",
        "for i in train[\"start_longitude\"].unique():\n",
        "    if (len(train[(train[\"start_longitude\"] == i)][\"road_name\"].value_counts()) != 2) :\n",
        "        continue\n",
        "    if \"-\" in train[(train[\"start_longitude\"] == i)][\"road_name\"].value_counts().index:\n",
        "        print(\"----------------\", i, \"-------------------\")\n",
        "        print(train[(train[\"start_longitude\"] == i)][\"road_name\"].value_counts())"
      ],
      "metadata": {
        "colab": {
          "base_uri": "https://localhost:8080/"
        },
        "id": "HXeCMOeAon9b",
        "outputId": "caa12d4e-899a-4f0f-c7fd-80b7e130aa45"
      },
      "execution_count": 96,
      "outputs": [
        {
          "output_type": "stream",
          "name": "stdout",
          "text": [
            "---------------- 126.259693 -------------------\n",
            "월계교    4389\n",
            "-      4223\n",
            "Name: road_name, dtype: int64\n"
          ]
        }
      ]
    },
    {
      "cell_type": "code",
      "source": [
        "train.loc[(train[\"start_longitude\"] == 126.259693) & (train[\"road_name\"] == \"-\"), \"road_name\"] = \"월계교\"\n",
        "\n",
        "test.loc[(test[\"start_longitude\"] == 126.259693) & (test[\"road_name\"] == \"-\"), \"road_name\"] = \"월계교\""
      ],
      "metadata": {
        "id": "95bNKhR8opcU"
      },
      "execution_count": 97,
      "outputs": []
    },
    {
      "cell_type": "code",
      "source": [
        "# \"-\" 값 대체를 위한 탐색\"\n",
        "for i in train[\"end_longitude\"].unique():\n",
        "    if (len(train[(train[\"end_longitude\"] == i)][\"road_name\"].value_counts()) != 2) :\n",
        "        continue\n",
        "    if \"-\" in train[(train[\"end_longitude\"] == i)][\"road_name\"].value_counts().index:\n",
        "        print(\"----------------\", i, \"-------------------\")\n",
        "        print(train[(train[\"end_longitude\"] == i)][\"road_name\"].value_counts())"
      ],
      "metadata": {
        "colab": {
          "base_uri": "https://localhost:8080/"
        },
        "id": "SEnILPO7opfn",
        "outputId": "5b77556f-51bd-48bd-819b-4bbdaacbca43"
      },
      "execution_count": 98,
      "outputs": [
        {
          "output_type": "stream",
          "name": "stdout",
          "text": [
            "---------------- 126.261797 -------------------\n",
            "-      4438\n",
            "월계교    4223\n",
            "Name: road_name, dtype: int64\n"
          ]
        }
      ]
    },
    {
      "cell_type": "code",
      "source": [
        "train.loc[(train[\"end_longitude\"] == 126.261797) & (train[\"road_name\"] == \"-\"), \"road_name\"] = \"월계교\"\n",
        "\n",
        "test.loc[(test[\"end_longitude\"] == 126.261797) & (test[\"road_name\"] == \"-\"), \"road_name\"] = \"월계교\""
      ],
      "metadata": {
        "id": "yqfzqETeopiI"
      },
      "execution_count": 99,
      "outputs": []
    },
    {
      "cell_type": "code",
      "source": [
        "print(len(train[train[\"road_name\"] == \"-\"]))"
      ],
      "metadata": {
        "colab": {
          "base_uri": "https://localhost:8080/"
        },
        "id": "k295iiosot1Z",
        "outputId": "6866bcce-b86b-4888-f1fe-1ca6fd87619e"
      },
      "execution_count": 100,
      "outputs": [
        {
          "output_type": "stream",
          "name": "stdout",
          "text": [
            "201686\n"
          ]
        }
      ]
    },
    {
      "cell_type": "code",
      "source": [
        "# 추가 탐색 - 종료지점을 중심으로\n",
        "temp_train = train.groupby([\"end_longitude\", \"end_latitude\", \"lane_count\"])[[\"road_name\"]].sum()\n",
        "temp_train\n",
        "\n",
        "temp_train1 = temp_train.agg({\"road_name\": pd.Series.mode})\n",
        "temp_train1\n",
        "\n",
        "long_lat = []\n",
        "\n",
        "for i in range(len(temp_train1)):\n",
        "    if \"-\" in temp_train1[\"road_name\"].iloc[i][0]:\n",
        "        #print(temp_train1.index[i])\n",
        "        long_lat.append(temp_train1.index[i])\n",
        "\n",
        "for i in range(len(long_lat)):\n",
        "    if len(train[(train[\"end_longitude\"] == long_lat[i][0]) & (train[\"end_latitude\"] == long_lat[i][1])][\"road_name\"].value_counts()) > 1:\n",
        "        print(train[(train[\"end_longitude\"] == long_lat[i][0]) & (train[\"end_latitude\"] == long_lat[i][1]) & (train[\"lane_count\"] == long_lat[i][2])][\"road_name\"].value_counts())\n",
        "        print(long_lat[i][0], long_lat[i][1], long_lat[i][2])\n",
        "        print(\"------------------------------\")"
      ],
      "metadata": {
        "colab": {
          "base_uri": "https://localhost:8080/"
        },
        "id": "igf19venot7L",
        "outputId": "bbde3d93-7f12-4978-ccd4-10e4b0099c9d"
      },
      "execution_count": 101,
      "outputs": [
        {
          "output_type": "stream",
          "name": "stdout",
          "text": [
            "-      4395\n",
            "산서로    4159\n",
            "월계교    3321\n",
            "Name: road_name, dtype: int64\n",
            "126.257313 33.411255 2\n",
            "------------------------------\n",
            "-      5928\n",
            "중문로    5881\n",
            "Name: road_name, dtype: int64\n",
            "126.414236 33.255215 2\n",
            "------------------------------\n",
            "-      6057\n",
            "애조로    6048\n",
            "Name: road_name, dtype: int64\n",
            "126.456384 33.465863 2\n",
            "------------------------------\n"
          ]
        }
      ]
    },
    {
      "cell_type": "code",
      "source": [
        "train.loc[(train[\"end_longitude\"] == 126.414236) & (train[\"end_latitude\"] == 33.255215) & (train[\"lane_count\"] == 2) & (train[\"road_name\"] == \"-\"), \"road_name\"] = \"중문로\"\n",
        "train.loc[(train[\"end_longitude\"] == 126.456384) & (train[\"end_latitude\"] == 33.465863) & (train[\"lane_count\"] == 2) & (train[\"road_name\"] == \"-\"), \"road_name\"] = \"애조로\"\n",
        "\n",
        "test.loc[(test[\"end_longitude\"] == 126.414236) & (test[\"end_latitude\"] == 33.255215) & (test[\"lane_count\"] == 2) & (test[\"road_name\"] == \"-\"), \"road_name\"] = \"중문로\"\n",
        "test.loc[(test[\"end_longitude\"] == 126.456384) & (test[\"end_latitude\"] == 33.465863) & (test[\"lane_count\"] == 2) & (test[\"road_name\"] == \"-\"), \"road_name\"] = \"애조로\""
      ],
      "metadata": {
        "id": "Z5wzmyQMot-c"
      },
      "execution_count": 102,
      "outputs": []
    },
    {
      "cell_type": "code",
      "source": [
        "# 추가 탐색 - 시작지점을 중심으로\n",
        "temp_train = train.groupby([\"start_longitude\", \"start_latitude\", \"lane_count\"])[[\"road_name\"]].sum()\n",
        "temp_train\n",
        "\n",
        "temp_train1 = temp_train.agg({\"road_name\": pd.Series.mode})\n",
        "temp_train1\n",
        "\n",
        "long_lat = []\n",
        "\n",
        "for i in range(len(temp_train1)):\n",
        "    if \"-\" in temp_train1[\"road_name\"].iloc[i][0]:\n",
        "        #print(temp_train1.index[i])\n",
        "        long_lat.append(temp_train1.index[i])\n",
        "\n",
        "for i in range(len(long_lat)):\n",
        "    if len(train[(train[\"start_longitude\"] == long_lat[i][0]) & (train[\"start_latitude\"] == long_lat[i][1])][\"road_name\"].value_counts()) > 1:\n",
        "        print(train[(train[\"start_longitude\"] == long_lat[i][0]) & (train[\"start_latitude\"] == long_lat[i][1]) & (train[\"lane_count\"] == long_lat[i][2])][\"road_name\"].value_counts())\n",
        "        print(long_lat[i][0], long_lat[i][1], long_lat[i][2])\n",
        "        print(\"------------------------------\")"
      ],
      "metadata": {
        "colab": {
          "base_uri": "https://localhost:8080/"
        },
        "id": "3hovIPwjozNe",
        "outputId": "63795e3a-a2ec-437b-f277-0016658bafa1"
      },
      "execution_count": 103,
      "outputs": [
        {
          "output_type": "stream",
          "name": "stdout",
          "text": [
            "월계교    4438\n",
            "-      4360\n",
            "Name: road_name, dtype: int64\n",
            "126.262739 33.415854 2\n",
            "------------------------------\n",
            "중문로    5928\n",
            "-      5853\n",
            "Name: road_name, dtype: int64\n",
            "126.413687 33.255431 2\n",
            "------------------------------\n",
            "-    5899\n",
            "Name: road_name, dtype: int64\n",
            "126.414236 33.255215 2\n",
            "------------------------------\n",
            "애조로    6057\n",
            "-      6034\n",
            "Name: road_name, dtype: int64\n",
            "126.454583 33.466433 2\n",
            "------------------------------\n",
            "애조로    6044\n",
            "-      6034\n",
            "Name: road_name, dtype: int64\n",
            "126.456384 33.465863 2\n",
            "------------------------------\n"
          ]
        }
      ]
    },
    {
      "cell_type": "code",
      "source": [
        "train.loc[(train[\"start_longitude\"] == 126.262739) & (train[\"start_latitude\"] == 33.415854) & (train[\"lane_count\"] == 2) & (train[\"road_name\"] == \"-\"), \"road_name\"] = \"월계교\"\n",
        "train.loc[(train[\"start_longitude\"] == 126.413687) & (train[\"start_latitude\"] == 33.255431) & (train[\"lane_count\"] == 2) & (train[\"road_name\"] == \"-\"), \"road_name\"] = \"중문로\"\n",
        "train.loc[(train[\"start_longitude\"] == 126.454583) & (train[\"start_latitude\"] == 33.466433) & (train[\"lane_count\"] == 2) & (train[\"road_name\"] == \"-\"), \"road_name\"] = \"애조로\"\n",
        "train.loc[(train[\"start_longitude\"] == 126.456384) & (train[\"start_latitude\"] == 33.465863) & (train[\"lane_count\"] == 2) & (train[\"road_name\"] == \"-\"), \"road_name\"] = \"애조로\"\n",
        "\n",
        "test.loc[(test[\"start_longitude\"] == 126.262739) & (test[\"start_latitude\"] == 33.415854) & (test[\"lane_count\"] == 2) & (test[\"road_name\"] == \"-\"), \"road_name\"] = \"월계교\"\n",
        "test.loc[(test[\"start_longitude\"] == 126.413687) & (test[\"start_latitude\"] == 33.255431) & (test[\"lane_count\"] == 2) & (test[\"road_name\"] == \"-\"), \"road_name\"] = \"중문로\"\n",
        "test.loc[(test[\"start_longitude\"] == 126.454583) & (test[\"start_latitude\"] == 33.466433) & (test[\"lane_count\"] == 2) & (test[\"road_name\"] == \"-\"), \"road_name\"] = \"애조로\"\n",
        "test.loc[(test[\"start_longitude\"] == 126.456384) & (test[\"start_latitude\"] == 33.465863) & (test[\"lane_count\"] == 2) & (test[\"road_name\"] == \"-\"), \"road_name\"] = \"애조로\""
      ],
      "metadata": {
        "id": "u6OqazN2ozQZ"
      },
      "execution_count": 104,
      "outputs": []
    },
    {
      "cell_type": "code",
      "source": [
        "print(len(train[train[\"road_name\"] == \"-\"]))\n"
      ],
      "metadata": {
        "colab": {
          "base_uri": "https://localhost:8080/"
        },
        "id": "fghKlYy6ozSx",
        "outputId": "111271be-a566-4b41-840c-7248171b0fae"
      },
      "execution_count": 105,
      "outputs": [
        {
          "output_type": "stream",
          "name": "stdout",
          "text": [
            "167420\n"
          ]
        }
      ]
    },
    {
      "cell_type": "code",
      "source": [
        "def set_binned_time(x): # 23시 ~ 오전 6시 & 오전 7시~ 22시\n",
        "    if 7 <= x <= 22:\n",
        "        time = \"traffic\"\n",
        "    elif 23 <= x <= 24 :\n",
        "        time = \"resttime\"\n",
        "    elif 0 <= x <= 6 :\n",
        "        time = \"resttime\"\n",
        "    else: # 0 ~ 24 이외에 다른 값이 적용된 경우\n",
        "        time = None\n",
        "    return time"
      ],
      "metadata": {
        "id": "xSPVQk-PozVC"
      },
      "execution_count": 106,
      "outputs": []
    },
    {
      "cell_type": "code",
      "source": [
        "train[\"work_or_rest_or_other\"] = train[\"base_hour\"].apply(set_binned_time)\n",
        "test[\"work_or_rest_or_other\"] = test[\"base_hour\"].apply(set_binned_time)"
      ],
      "metadata": {
        "id": "Akt6jMCrozW5"
      },
      "execution_count": 107,
      "outputs": []
    },
    {
      "cell_type": "code",
      "source": [
        "#시간 대별로 나눔\n",
        "train.work_or_rest_or_other.value_counts()"
      ],
      "metadata": {
        "colab": {
          "base_uri": "https://localhost:8080/"
        },
        "id": "hh_qPM0CsWig",
        "outputId": "09065bc7-7b24-4a26-b109-d5e813a8c700"
      },
      "execution_count": 108,
      "outputs": [
        {
          "output_type": "execute_result",
          "data": {
            "text/plain": [
              "traffic     3319387\n",
              "resttime    1381830\n",
              "Name: work_or_rest_or_other, dtype: int64"
            ]
          },
          "metadata": {},
          "execution_count": 108
        }
      ]
    },
    {
      "cell_type": "code",
      "source": [
        "def season(x) :\n",
        "    if x in [3, 4, 5, 6] :\n",
        "        return 0\n",
        "    elif x in [7, 8, 9] :\n",
        "        return 1\n",
        "    elif x in [10, 11] :\n",
        "        return 2\n",
        "    else :\n",
        "        return 3\n",
        "\n",
        "train['season'] = train['base_date'].apply(season)\n",
        "test['season'] = test['base_date'].apply(season)"
      ],
      "metadata": {
        "id": "ucXY-HZkO82i"
      },
      "execution_count": 110,
      "outputs": []
    },
    {
      "cell_type": "code",
      "source": [
        "len(train)"
      ],
      "metadata": {
        "colab": {
          "base_uri": "https://localhost:8080/"
        },
        "id": "CT5az4u0sWlw",
        "outputId": "2b94677c-b024-4d9e-a6c6-d8b98679862f"
      },
      "execution_count": 111,
      "outputs": [
        {
          "output_type": "execute_result",
          "data": {
            "text/plain": [
              "4701217"
            ]
          },
          "metadata": {},
          "execution_count": 111
        }
      ]
    },
    {
      "cell_type": "code",
      "source": [
        "train = train[train.target<100]"
      ],
      "metadata": {
        "id": "6bee3cEfsWn-"
      },
      "execution_count": 112,
      "outputs": []
    },
    {
      "cell_type": "code",
      "source": [
        "len(train)"
      ],
      "metadata": {
        "colab": {
          "base_uri": "https://localhost:8080/"
        },
        "id": "MV1qdtdfsWqO",
        "outputId": "b3d94ead-a78a-4680-e141-4303e244eb38"
      },
      "execution_count": 113,
      "outputs": [
        {
          "output_type": "execute_result",
          "data": {
            "text/plain": [
              "4701212"
            ]
          },
          "metadata": {},
          "execution_count": 113
        }
      ]
    },
    {
      "cell_type": "code",
      "source": [
        "# 범주형 데이터에 라벨인코더 사용\n",
        "str_col = [\"day_of_week\", \"road_name\", \"start_node_name\", \"end_node_name\",\n",
        "           \"start_turn_restricted\", \"end_turn_restricted\", \"weight_restricted\", \"road_rating\",\n",
        "           \"road_type\", \"work_or_rest_or_other\",\"season\"]\n",
        "\n",
        "for i in str_col:\n",
        "    le = LabelEncoder()\n",
        "    le=le.fit(train[i])\n",
        "    train[i]=le.transform(train[i])\n",
        "    \n",
        "    for label in np.unique(test[i]):\n",
        "        if label not in le.classes_: \n",
        "            le.classes_ = np.append(le.classes_, label)\n",
        "    test[i]=le.transform(test[i])"
      ],
      "metadata": {
        "id": "ZvBjP8i2sWsX"
      },
      "execution_count": 115,
      "outputs": []
    },
    {
      "cell_type": "code",
      "source": [
        "train.head()"
      ],
      "metadata": {
        "colab": {
          "base_uri": "https://localhost:8080/",
          "height": 300
        },
        "id": "ZKc5tGTAszng",
        "outputId": "032cf27c-8ae7-470e-8a62-9d9f54c4177c"
      },
      "execution_count": 116,
      "outputs": [
        {
          "output_type": "execute_result",
          "data": {
            "text/plain": [
              "              id  base_date  day_of_week  base_hour  lane_count  road_rating  \\\n",
              "0  TRAIN_0000000   20220623            1         17           1            1   \n",
              "1  TRAIN_0000001   20220728            1         21           2            0   \n",
              "2  TRAIN_0000002   20211010            4          7           2            0   \n",
              "3  TRAIN_0000003   20220311            0         13           2            2   \n",
              "4  TRAIN_0000004   20211005            6          8           2            0   \n",
              "\n",
              "   road_name  multi_linked  connect_code  maximum_speed_limit  ...  \\\n",
              "0         50             0             0                 60.0  ...   \n",
              "1         38             0             0                 60.0  ...   \n",
              "2         40             0             0                 80.0  ...   \n",
              "3         61             0             0                 50.0  ...   \n",
              "4         39             0             0                 80.0  ...   \n",
              "\n",
              "   start_latitude  start_longitude  start_turn_restricted  end_node_name  \\\n",
              "0       33.427747       126.662612                      0            386   \n",
              "1       33.500730       126.529107                      1              2   \n",
              "2       33.279145       126.368598                      0            179   \n",
              "3       33.246081       126.567204                      0            203   \n",
              "4       33.462214       126.326551                      0            269   \n",
              "\n",
              "   end_latitude  end_longitude  end_turn_restricted  target  \\\n",
              "0     33.427749     126.662335                    0    52.0   \n",
              "1     33.504811     126.526240                    0    30.0   \n",
              "2     33.280072     126.362147                    0    61.0   \n",
              "3     33.245565     126.566228                    0    20.0   \n",
              "4     33.462677     126.330152                    0    38.0   \n",
              "\n",
              "   work_or_rest_or_other  season  \n",
              "0                      1       0  \n",
              "1                      1       0  \n",
              "2                      1       0  \n",
              "3                      1       0  \n",
              "4                      1       0  \n",
              "\n",
              "[5 rows x 23 columns]"
            ],
            "text/html": [
              "\n",
              "  <div id=\"df-dcbea2bb-b285-4748-ba2d-8e08d97e7824\">\n",
              "    <div class=\"colab-df-container\">\n",
              "      <div>\n",
              "<style scoped>\n",
              "    .dataframe tbody tr th:only-of-type {\n",
              "        vertical-align: middle;\n",
              "    }\n",
              "\n",
              "    .dataframe tbody tr th {\n",
              "        vertical-align: top;\n",
              "    }\n",
              "\n",
              "    .dataframe thead th {\n",
              "        text-align: right;\n",
              "    }\n",
              "</style>\n",
              "<table border=\"1\" class=\"dataframe\">\n",
              "  <thead>\n",
              "    <tr style=\"text-align: right;\">\n",
              "      <th></th>\n",
              "      <th>id</th>\n",
              "      <th>base_date</th>\n",
              "      <th>day_of_week</th>\n",
              "      <th>base_hour</th>\n",
              "      <th>lane_count</th>\n",
              "      <th>road_rating</th>\n",
              "      <th>road_name</th>\n",
              "      <th>multi_linked</th>\n",
              "      <th>connect_code</th>\n",
              "      <th>maximum_speed_limit</th>\n",
              "      <th>...</th>\n",
              "      <th>start_latitude</th>\n",
              "      <th>start_longitude</th>\n",
              "      <th>start_turn_restricted</th>\n",
              "      <th>end_node_name</th>\n",
              "      <th>end_latitude</th>\n",
              "      <th>end_longitude</th>\n",
              "      <th>end_turn_restricted</th>\n",
              "      <th>target</th>\n",
              "      <th>work_or_rest_or_other</th>\n",
              "      <th>season</th>\n",
              "    </tr>\n",
              "  </thead>\n",
              "  <tbody>\n",
              "    <tr>\n",
              "      <th>0</th>\n",
              "      <td>TRAIN_0000000</td>\n",
              "      <td>20220623</td>\n",
              "      <td>1</td>\n",
              "      <td>17</td>\n",
              "      <td>1</td>\n",
              "      <td>1</td>\n",
              "      <td>50</td>\n",
              "      <td>0</td>\n",
              "      <td>0</td>\n",
              "      <td>60.0</td>\n",
              "      <td>...</td>\n",
              "      <td>33.427747</td>\n",
              "      <td>126.662612</td>\n",
              "      <td>0</td>\n",
              "      <td>386</td>\n",
              "      <td>33.427749</td>\n",
              "      <td>126.662335</td>\n",
              "      <td>0</td>\n",
              "      <td>52.0</td>\n",
              "      <td>1</td>\n",
              "      <td>0</td>\n",
              "    </tr>\n",
              "    <tr>\n",
              "      <th>1</th>\n",
              "      <td>TRAIN_0000001</td>\n",
              "      <td>20220728</td>\n",
              "      <td>1</td>\n",
              "      <td>21</td>\n",
              "      <td>2</td>\n",
              "      <td>0</td>\n",
              "      <td>38</td>\n",
              "      <td>0</td>\n",
              "      <td>0</td>\n",
              "      <td>60.0</td>\n",
              "      <td>...</td>\n",
              "      <td>33.500730</td>\n",
              "      <td>126.529107</td>\n",
              "      <td>1</td>\n",
              "      <td>2</td>\n",
              "      <td>33.504811</td>\n",
              "      <td>126.526240</td>\n",
              "      <td>0</td>\n",
              "      <td>30.0</td>\n",
              "      <td>1</td>\n",
              "      <td>0</td>\n",
              "    </tr>\n",
              "    <tr>\n",
              "      <th>2</th>\n",
              "      <td>TRAIN_0000002</td>\n",
              "      <td>20211010</td>\n",
              "      <td>4</td>\n",
              "      <td>7</td>\n",
              "      <td>2</td>\n",
              "      <td>0</td>\n",
              "      <td>40</td>\n",
              "      <td>0</td>\n",
              "      <td>0</td>\n",
              "      <td>80.0</td>\n",
              "      <td>...</td>\n",
              "      <td>33.279145</td>\n",
              "      <td>126.368598</td>\n",
              "      <td>0</td>\n",
              "      <td>179</td>\n",
              "      <td>33.280072</td>\n",
              "      <td>126.362147</td>\n",
              "      <td>0</td>\n",
              "      <td>61.0</td>\n",
              "      <td>1</td>\n",
              "      <td>0</td>\n",
              "    </tr>\n",
              "    <tr>\n",
              "      <th>3</th>\n",
              "      <td>TRAIN_0000003</td>\n",
              "      <td>20220311</td>\n",
              "      <td>0</td>\n",
              "      <td>13</td>\n",
              "      <td>2</td>\n",
              "      <td>2</td>\n",
              "      <td>61</td>\n",
              "      <td>0</td>\n",
              "      <td>0</td>\n",
              "      <td>50.0</td>\n",
              "      <td>...</td>\n",
              "      <td>33.246081</td>\n",
              "      <td>126.567204</td>\n",
              "      <td>0</td>\n",
              "      <td>203</td>\n",
              "      <td>33.245565</td>\n",
              "      <td>126.566228</td>\n",
              "      <td>0</td>\n",
              "      <td>20.0</td>\n",
              "      <td>1</td>\n",
              "      <td>0</td>\n",
              "    </tr>\n",
              "    <tr>\n",
              "      <th>4</th>\n",
              "      <td>TRAIN_0000004</td>\n",
              "      <td>20211005</td>\n",
              "      <td>6</td>\n",
              "      <td>8</td>\n",
              "      <td>2</td>\n",
              "      <td>0</td>\n",
              "      <td>39</td>\n",
              "      <td>0</td>\n",
              "      <td>0</td>\n",
              "      <td>80.0</td>\n",
              "      <td>...</td>\n",
              "      <td>33.462214</td>\n",
              "      <td>126.326551</td>\n",
              "      <td>0</td>\n",
              "      <td>269</td>\n",
              "      <td>33.462677</td>\n",
              "      <td>126.330152</td>\n",
              "      <td>0</td>\n",
              "      <td>38.0</td>\n",
              "      <td>1</td>\n",
              "      <td>0</td>\n",
              "    </tr>\n",
              "  </tbody>\n",
              "</table>\n",
              "<p>5 rows × 23 columns</p>\n",
              "</div>\n",
              "      <button class=\"colab-df-convert\" onclick=\"convertToInteractive('df-dcbea2bb-b285-4748-ba2d-8e08d97e7824')\"\n",
              "              title=\"Convert this dataframe to an interactive table.\"\n",
              "              style=\"display:none;\">\n",
              "        \n",
              "  <svg xmlns=\"http://www.w3.org/2000/svg\" height=\"24px\"viewBox=\"0 0 24 24\"\n",
              "       width=\"24px\">\n",
              "    <path d=\"M0 0h24v24H0V0z\" fill=\"none\"/>\n",
              "    <path d=\"M18.56 5.44l.94 2.06.94-2.06 2.06-.94-2.06-.94-.94-2.06-.94 2.06-2.06.94zm-11 1L8.5 8.5l.94-2.06 2.06-.94-2.06-.94L8.5 2.5l-.94 2.06-2.06.94zm10 10l.94 2.06.94-2.06 2.06-.94-2.06-.94-.94-2.06-.94 2.06-2.06.94z\"/><path d=\"M17.41 7.96l-1.37-1.37c-.4-.4-.92-.59-1.43-.59-.52 0-1.04.2-1.43.59L10.3 9.45l-7.72 7.72c-.78.78-.78 2.05 0 2.83L4 21.41c.39.39.9.59 1.41.59.51 0 1.02-.2 1.41-.59l7.78-7.78 2.81-2.81c.8-.78.8-2.07 0-2.86zM5.41 20L4 18.59l7.72-7.72 1.47 1.35L5.41 20z\"/>\n",
              "  </svg>\n",
              "      </button>\n",
              "      \n",
              "  <style>\n",
              "    .colab-df-container {\n",
              "      display:flex;\n",
              "      flex-wrap:wrap;\n",
              "      gap: 12px;\n",
              "    }\n",
              "\n",
              "    .colab-df-convert {\n",
              "      background-color: #E8F0FE;\n",
              "      border: none;\n",
              "      border-radius: 50%;\n",
              "      cursor: pointer;\n",
              "      display: none;\n",
              "      fill: #1967D2;\n",
              "      height: 32px;\n",
              "      padding: 0 0 0 0;\n",
              "      width: 32px;\n",
              "    }\n",
              "\n",
              "    .colab-df-convert:hover {\n",
              "      background-color: #E2EBFA;\n",
              "      box-shadow: 0px 1px 2px rgba(60, 64, 67, 0.3), 0px 1px 3px 1px rgba(60, 64, 67, 0.15);\n",
              "      fill: #174EA6;\n",
              "    }\n",
              "\n",
              "    [theme=dark] .colab-df-convert {\n",
              "      background-color: #3B4455;\n",
              "      fill: #D2E3FC;\n",
              "    }\n",
              "\n",
              "    [theme=dark] .colab-df-convert:hover {\n",
              "      background-color: #434B5C;\n",
              "      box-shadow: 0px 1px 3px 1px rgba(0, 0, 0, 0.15);\n",
              "      filter: drop-shadow(0px 1px 2px rgba(0, 0, 0, 0.3));\n",
              "      fill: #FFFFFF;\n",
              "    }\n",
              "  </style>\n",
              "\n",
              "      <script>\n",
              "        const buttonEl =\n",
              "          document.querySelector('#df-dcbea2bb-b285-4748-ba2d-8e08d97e7824 button.colab-df-convert');\n",
              "        buttonEl.style.display =\n",
              "          google.colab.kernel.accessAllowed ? 'block' : 'none';\n",
              "\n",
              "        async function convertToInteractive(key) {\n",
              "          const element = document.querySelector('#df-dcbea2bb-b285-4748-ba2d-8e08d97e7824');\n",
              "          const dataTable =\n",
              "            await google.colab.kernel.invokeFunction('convertToInteractive',\n",
              "                                                     [key], {});\n",
              "          if (!dataTable) return;\n",
              "\n",
              "          const docLinkHtml = 'Like what you see? Visit the ' +\n",
              "            '<a target=\"_blank\" href=https://colab.research.google.com/notebooks/data_table.ipynb>data table notebook</a>'\n",
              "            + ' to learn more about interactive tables.';\n",
              "          element.innerHTML = '';\n",
              "          dataTable['output_type'] = 'display_data';\n",
              "          await google.colab.output.renderOutput(dataTable, element);\n",
              "          const docLink = document.createElement('div');\n",
              "          docLink.innerHTML = docLinkHtml;\n",
              "          element.appendChild(docLink);\n",
              "        }\n",
              "      </script>\n",
              "    </div>\n",
              "  </div>\n",
              "  "
            ]
          },
          "metadata": {},
          "execution_count": 116
        }
      ]
    },
    {
      "cell_type": "code",
      "source": [
        "train.info()"
      ],
      "metadata": {
        "colab": {
          "base_uri": "https://localhost:8080/"
        },
        "id": "_-UmgfQOszt-",
        "outputId": "69aa1c2c-d2ff-475e-a4cf-a0b499756f81"
      },
      "execution_count": 117,
      "outputs": [
        {
          "output_type": "stream",
          "name": "stdout",
          "text": [
            "<class 'pandas.core.frame.DataFrame'>\n",
            "Int64Index: 4701212 entries, 0 to 4701216\n",
            "Data columns (total 23 columns):\n",
            " #   Column                 Dtype  \n",
            "---  ------                 -----  \n",
            " 0   id                     object \n",
            " 1   base_date              int32  \n",
            " 2   day_of_week            int64  \n",
            " 3   base_hour              int32  \n",
            " 4   lane_count             int32  \n",
            " 5   road_rating            int64  \n",
            " 6   road_name              int64  \n",
            " 7   multi_linked           int32  \n",
            " 8   connect_code           int32  \n",
            " 9   maximum_speed_limit    float32\n",
            " 10  weight_restricted      int64  \n",
            " 11  road_type              int64  \n",
            " 12  start_node_name        int64  \n",
            " 13  start_latitude         float64\n",
            " 14  start_longitude        float64\n",
            " 15  start_turn_restricted  int64  \n",
            " 16  end_node_name          int64  \n",
            " 17  end_latitude           float64\n",
            " 18  end_longitude          float64\n",
            " 19  end_turn_restricted    int64  \n",
            " 20  target                 float32\n",
            " 21  work_or_rest_or_other  int64  \n",
            " 22  season                 int64  \n",
            "dtypes: float32(2), float64(4), int32(5), int64(11), object(1)\n",
            "memory usage: 735.3+ MB\n"
          ]
        }
      ]
    },
    {
      "cell_type": "code",
      "source": [
        "to_int8 = [\"day_of_week\",\"weight_restricted\", \"base_hour\", \"lane_count\", \"road_rating\", \n",
        "           \"road_name\",\"road_type\", \"start_turn_restricted\", \"end_turn_restricted\", \n",
        "           \"maximum_speed_limit\", \"work_or_rest_or_other\",\"season\"]\n",
        "to_int16 = [\"start_node_name\", \"end_node_name\"]\n",
        "to_int32 = [\"base_date\"]\n",
        "\n",
        "for i in to_int8:\n",
        "    train[i] = train[i].astype(\"int8\")\n",
        "for j in to_int16:\n",
        "    train[j] = train[j].astype(\"int16\")\n",
        "for k in to_int32:\n",
        "    train[k] = train[k].astype(\"int32\")"
      ],
      "metadata": {
        "id": "JcBq7ILnszzO"
      },
      "execution_count": 118,
      "outputs": []
    },
    {
      "cell_type": "code",
      "source": [
        "Y_train = train['target']\n",
        "X_train = train.drop([\"id\", \"multi_linked\", \"connect_code\", \"target\"], axis = 1)\n",
        "X_test = test.drop([\"id\", \"multi_linked\", \"connect_code\"], axis = 1)"
      ],
      "metadata": {
        "id": "L0FHRW_VtCIL"
      },
      "execution_count": 119,
      "outputs": []
    },
    {
      "cell_type": "code",
      "source": [
        "# 데이터 램 사용량을 감소시키기 위해 더이상 필요하지 않은 데이터는 제거합니다\n",
        "del train\n",
        "del test\n",
        "gc.collect()"
      ],
      "metadata": {
        "colab": {
          "base_uri": "https://localhost:8080/"
        },
        "id": "KRFX1ItjtCKM",
        "outputId": "b9e42f49-7428-4e6a-9d32-deb345a253fe"
      },
      "execution_count": 120,
      "outputs": [
        {
          "output_type": "execute_result",
          "data": {
            "text/plain": [
              "111"
            ]
          },
          "metadata": {},
          "execution_count": 120
        }
      ]
    },
    {
      "cell_type": "code",
      "source": [
        "from sklearn.model_selection import StratifiedKFold as kfold\n",
        "from sklearn.ensemble import RandomForestRegressor,ExtraTreesRegressor\n",
        "from sklearn.metrics import mean_absolute_error\n",
        "\n",
        "# 연속적인 값인 만큼 stratify kfold 를 사용할 수 없지만 나누는 것은 kfold와 동일합니다.\n",
        "kf = kfold(n_splits = 3, shuffle = True, random_state = 42)\n",
        "split = kf.split(X_train, Y_train)\n",
        "\n",
        "# 평균 mae를 확인하기 위한 리스트\n",
        "mae_list1 = []\n",
        "mae_list2 = []\n",
        "\n",
        "# 폴드별 예측값 저장을 위한 리스트\n",
        "test_pred_list1 = []\n",
        "test_pred_list2 = []\n",
        "\n",
        "for train, test in split:\n",
        "    x_train, x_val, y_train, y_val = X_train.iloc[train], X_train.iloc[test], Y_train.iloc[train], Y_train.iloc[test]    \n",
        "\n",
        "    rf = RandomForestRegressor(n_estimators=40, min_samples_leaf=10,\n",
        "                                min_samples_split=10, random_state=2022)\n",
        "    et = ExtraTreesRegressor(n_estimators = 40, min_samples_split=10, min_samples_leaf = 10, random_state = 2022)\n",
        "\n",
        "    rf.fit(x_train, y_train)\n",
        "    et.fit(x_train, y_train)\n",
        "\n",
        "    pred1 = rf.predict(x_val)\n",
        "    pred2 = et.predict(x_val)\n",
        "\n",
        "    result1 = mean_absolute_error(pred1,y_val)\n",
        "    result2 = mean_absolute_error(pred2,y_val)\n",
        "\n",
        "    mae_list1.append(result1)\n",
        "    mae_list2.append(result2)\n",
        "\n",
        "    print(f'RandomForestRegressor mae : {result1:.4f}', end='\\n\\n')\n",
        "    print(f'ExtraTreeRegressor mae : {result2:.4f}', end='\\n\\n')\n",
        "    \n",
        "    test_pred_list1.append(rf.predict(X_test))\n",
        "    test_pred_list2.append(et.predict(X_test))\n",
        "\n",
        "print(f'mean mae {np.mean(mae_list1):.4f}')\n",
        "print(f'mean mae {np.mean(mae_list2):.4f}')"
      ],
      "metadata": {
        "colab": {
          "base_uri": "https://localhost:8080/"
        },
        "id": "wKSWhlM-tCMa",
        "outputId": "37508294-d50e-4a5c-98e4-4af0c9bdcded"
      },
      "execution_count": 121,
      "outputs": [
        {
          "output_type": "stream",
          "name": "stderr",
          "text": [
            "/usr/local/lib/python3.7/dist-packages/sklearn/model_selection/_split.py:680: UserWarning: The least populated class in y has only 1 members, which is less than n_splits=3.\n",
            "  UserWarning,\n"
          ]
        },
        {
          "output_type": "stream",
          "name": "stdout",
          "text": [
            "RandomForestRegressor mae : 2.9758\n",
            "\n",
            "ExtraTreeRegressor mae : 3.0209\n",
            "\n",
            "RandomForestRegressor mae : 2.9757\n",
            "\n",
            "ExtraTreeRegressor mae : 3.0207\n",
            "\n",
            "RandomForestRegressor mae : 2.9741\n",
            "\n",
            "ExtraTreeRegressor mae : 3.0189\n",
            "\n",
            "mean mae 2.9752\n",
            "mean mae 3.0202\n"
          ]
        }
      ]
    },
    {
      "cell_type": "code",
      "source": [
        "# 스태킹을 위해 pred_last에 할당합니다.\n",
        "pred_last1 = (test_pred_list1[0] + test_pred_list1[1] + test_pred_list1[2])/3\n",
        "pred_last2 = (test_pred_list2[0] + test_pred_list2[1] + test_pred_list2[2])/3\n",
        "\n",
        "# 스태킹 한 두 값을 평균내어 최종 결과를 도출합니다.\n",
        "xpred_last = (pred_last1 + pred_last2) / 2"
      ],
      "metadata": {
        "id": "SEVgf6PztCOm"
      },
      "execution_count": 122,
      "outputs": []
    },
    {
      "cell_type": "code",
      "source": [
        "sample_submission = pd.read_csv('/content/drive/MyDrive/Colab Notebooks/open/sample_submission.csv')\n",
        "\n",
        "sample_submission['target'] = pred_last\n",
        "sample_submission.to_csv(\"./final.csv\", index = False)\n",
        "\n",
        "sample_submission\n"
      ],
      "metadata": {
        "colab": {
          "base_uri": "https://localhost:8080/",
          "height": 424
        },
        "id": "I85uPR5-tCQ8",
        "outputId": "d0ac2e57-b912-4c05-8ebf-6a7eafa54831"
      },
      "execution_count": 123,
      "outputs": [
        {
          "output_type": "execute_result",
          "data": {
            "text/plain": [
              "                 id     target\n",
              "0       TEST_000000  26.337253\n",
              "1       TEST_000001  42.535062\n",
              "2       TEST_000002  66.478340\n",
              "3       TEST_000003  38.601332\n",
              "4       TEST_000004  42.990793\n",
              "...             ...        ...\n",
              "291236  TEST_291236  47.338939\n",
              "291237  TEST_291237  51.346832\n",
              "291238  TEST_291238  22.173537\n",
              "291239  TEST_291239  23.169312\n",
              "291240  TEST_291240  47.959714\n",
              "\n",
              "[291241 rows x 2 columns]"
            ],
            "text/html": [
              "\n",
              "  <div id=\"df-8e9cf19e-968c-4e8b-bba9-03bea1379e32\">\n",
              "    <div class=\"colab-df-container\">\n",
              "      <div>\n",
              "<style scoped>\n",
              "    .dataframe tbody tr th:only-of-type {\n",
              "        vertical-align: middle;\n",
              "    }\n",
              "\n",
              "    .dataframe tbody tr th {\n",
              "        vertical-align: top;\n",
              "    }\n",
              "\n",
              "    .dataframe thead th {\n",
              "        text-align: right;\n",
              "    }\n",
              "</style>\n",
              "<table border=\"1\" class=\"dataframe\">\n",
              "  <thead>\n",
              "    <tr style=\"text-align: right;\">\n",
              "      <th></th>\n",
              "      <th>id</th>\n",
              "      <th>target</th>\n",
              "    </tr>\n",
              "  </thead>\n",
              "  <tbody>\n",
              "    <tr>\n",
              "      <th>0</th>\n",
              "      <td>TEST_000000</td>\n",
              "      <td>26.337253</td>\n",
              "    </tr>\n",
              "    <tr>\n",
              "      <th>1</th>\n",
              "      <td>TEST_000001</td>\n",
              "      <td>42.535062</td>\n",
              "    </tr>\n",
              "    <tr>\n",
              "      <th>2</th>\n",
              "      <td>TEST_000002</td>\n",
              "      <td>66.478340</td>\n",
              "    </tr>\n",
              "    <tr>\n",
              "      <th>3</th>\n",
              "      <td>TEST_000003</td>\n",
              "      <td>38.601332</td>\n",
              "    </tr>\n",
              "    <tr>\n",
              "      <th>4</th>\n",
              "      <td>TEST_000004</td>\n",
              "      <td>42.990793</td>\n",
              "    </tr>\n",
              "    <tr>\n",
              "      <th>...</th>\n",
              "      <td>...</td>\n",
              "      <td>...</td>\n",
              "    </tr>\n",
              "    <tr>\n",
              "      <th>291236</th>\n",
              "      <td>TEST_291236</td>\n",
              "      <td>47.338939</td>\n",
              "    </tr>\n",
              "    <tr>\n",
              "      <th>291237</th>\n",
              "      <td>TEST_291237</td>\n",
              "      <td>51.346832</td>\n",
              "    </tr>\n",
              "    <tr>\n",
              "      <th>291238</th>\n",
              "      <td>TEST_291238</td>\n",
              "      <td>22.173537</td>\n",
              "    </tr>\n",
              "    <tr>\n",
              "      <th>291239</th>\n",
              "      <td>TEST_291239</td>\n",
              "      <td>23.169312</td>\n",
              "    </tr>\n",
              "    <tr>\n",
              "      <th>291240</th>\n",
              "      <td>TEST_291240</td>\n",
              "      <td>47.959714</td>\n",
              "    </tr>\n",
              "  </tbody>\n",
              "</table>\n",
              "<p>291241 rows × 2 columns</p>\n",
              "</div>\n",
              "      <button class=\"colab-df-convert\" onclick=\"convertToInteractive('df-8e9cf19e-968c-4e8b-bba9-03bea1379e32')\"\n",
              "              title=\"Convert this dataframe to an interactive table.\"\n",
              "              style=\"display:none;\">\n",
              "        \n",
              "  <svg xmlns=\"http://www.w3.org/2000/svg\" height=\"24px\"viewBox=\"0 0 24 24\"\n",
              "       width=\"24px\">\n",
              "    <path d=\"M0 0h24v24H0V0z\" fill=\"none\"/>\n",
              "    <path d=\"M18.56 5.44l.94 2.06.94-2.06 2.06-.94-2.06-.94-.94-2.06-.94 2.06-2.06.94zm-11 1L8.5 8.5l.94-2.06 2.06-.94-2.06-.94L8.5 2.5l-.94 2.06-2.06.94zm10 10l.94 2.06.94-2.06 2.06-.94-2.06-.94-.94-2.06-.94 2.06-2.06.94z\"/><path d=\"M17.41 7.96l-1.37-1.37c-.4-.4-.92-.59-1.43-.59-.52 0-1.04.2-1.43.59L10.3 9.45l-7.72 7.72c-.78.78-.78 2.05 0 2.83L4 21.41c.39.39.9.59 1.41.59.51 0 1.02-.2 1.41-.59l7.78-7.78 2.81-2.81c.8-.78.8-2.07 0-2.86zM5.41 20L4 18.59l7.72-7.72 1.47 1.35L5.41 20z\"/>\n",
              "  </svg>\n",
              "      </button>\n",
              "      \n",
              "  <style>\n",
              "    .colab-df-container {\n",
              "      display:flex;\n",
              "      flex-wrap:wrap;\n",
              "      gap: 12px;\n",
              "    }\n",
              "\n",
              "    .colab-df-convert {\n",
              "      background-color: #E8F0FE;\n",
              "      border: none;\n",
              "      border-radius: 50%;\n",
              "      cursor: pointer;\n",
              "      display: none;\n",
              "      fill: #1967D2;\n",
              "      height: 32px;\n",
              "      padding: 0 0 0 0;\n",
              "      width: 32px;\n",
              "    }\n",
              "\n",
              "    .colab-df-convert:hover {\n",
              "      background-color: #E2EBFA;\n",
              "      box-shadow: 0px 1px 2px rgba(60, 64, 67, 0.3), 0px 1px 3px 1px rgba(60, 64, 67, 0.15);\n",
              "      fill: #174EA6;\n",
              "    }\n",
              "\n",
              "    [theme=dark] .colab-df-convert {\n",
              "      background-color: #3B4455;\n",
              "      fill: #D2E3FC;\n",
              "    }\n",
              "\n",
              "    [theme=dark] .colab-df-convert:hover {\n",
              "      background-color: #434B5C;\n",
              "      box-shadow: 0px 1px 3px 1px rgba(0, 0, 0, 0.15);\n",
              "      filter: drop-shadow(0px 1px 2px rgba(0, 0, 0, 0.3));\n",
              "      fill: #FFFFFF;\n",
              "    }\n",
              "  </style>\n",
              "\n",
              "      <script>\n",
              "        const buttonEl =\n",
              "          document.querySelector('#df-8e9cf19e-968c-4e8b-bba9-03bea1379e32 button.colab-df-convert');\n",
              "        buttonEl.style.display =\n",
              "          google.colab.kernel.accessAllowed ? 'block' : 'none';\n",
              "\n",
              "        async function convertToInteractive(key) {\n",
              "          const element = document.querySelector('#df-8e9cf19e-968c-4e8b-bba9-03bea1379e32');\n",
              "          const dataTable =\n",
              "            await google.colab.kernel.invokeFunction('convertToInteractive',\n",
              "                                                     [key], {});\n",
              "          if (!dataTable) return;\n",
              "\n",
              "          const docLinkHtml = 'Like what you see? Visit the ' +\n",
              "            '<a target=\"_blank\" href=https://colab.research.google.com/notebooks/data_table.ipynb>data table notebook</a>'\n",
              "            + ' to learn more about interactive tables.';\n",
              "          element.innerHTML = '';\n",
              "          dataTable['output_type'] = 'display_data';\n",
              "          await google.colab.output.renderOutput(dataTable, element);\n",
              "          const docLink = document.createElement('div');\n",
              "          docLink.innerHTML = docLinkHtml;\n",
              "          element.appendChild(docLink);\n",
              "        }\n",
              "      </script>\n",
              "    </div>\n",
              "  </div>\n",
              "  "
            ]
          },
          "metadata": {},
          "execution_count": 123
        }
      ]
    },
    {
      "cell_type": "code",
      "source": [],
      "metadata": {
        "id": "6Y7t-aYJtCS8"
      },
      "execution_count": null,
      "outputs": []
    },
    {
      "cell_type": "code",
      "source": [],
      "metadata": {
        "id": "a2W__P-1tCU0"
      },
      "execution_count": null,
      "outputs": []
    },
    {
      "cell_type": "code",
      "source": [],
      "metadata": {
        "id": "281NlvwDtCW2"
      },
      "execution_count": null,
      "outputs": []
    }
  ]
}